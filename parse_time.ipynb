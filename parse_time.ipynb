{
  "nbformat": 4,
  "nbformat_minor": 0,
  "metadata": {
    "colab": {
      "name": "parse_time.ipynb",
      "provenance": []
    },
    "kernelspec": {
      "name": "python3",
      "display_name": "Python 3"
    },
    "language_info": {
      "name": "python"
    }
  },
  "cells": [
    {
      "cell_type": "code",
      "source": [
        "# calculate time spent on each question\n",
        "# import libraries and data\n",
        "\n",
        "# uncomment when running in Colab\n",
        "# !pip install pandas\n",
        "import math\n",
        "import pandas as pd\n",
        "from datetime import datetime\n",
        "\n",
        "# mod based on survey\n",
        "num_quests = 6\n",
        "\n",
        "# time_data maps p#_q# : time-to-answer\n",
        "time_data = {}\n",
        "\n",
        "# uncomment when running in Colab\n",
        "df = pd.read_csv('/content/drive/MyDrive/Colab Notebooks/test_data.csv')\n",
        "\n",
        "# comment when running in Colab\n",
        "# df = pd.read_csv(r\"C:\\Users\\mrcon\\OneDrive\\College\\Research\\Main Study\\Qualtrics\\test_data.csv\")\n",
        "\n",
        "# remove superfluous rows\n",
        "df.drop([0,1], axis=0, inplace=True)\n",
        "\n",
        "# number of rows and columns in csv\n",
        "rows = len(df)\n",
        "cols = len(df.columns)\n",
        "\n",
        "# dictionary mapping q#_load : timestamp AND q#_unload : timestamp\n",
        "load_unload_time = {}\n",
        "\n",
        "# load and unload times for all participants for one (1) question\n",
        "load_times = []\n",
        "unload_times = []\n",
        "\n",
        "for qnum in range(num_quests):\n",
        "    load_unload_time['q'+str(qnum)+'_load'] = df['timeStampOfOnLoad_q'+str(qnum)].tolist()\n",
        "    load_unload_time['q'+str(qnum)+'_unload'] = df['timeStampOfOnUnload_q'+str(qnum)].tolist()\n",
        "    load_times = load_unload_time['q'+str(qnum)+'_load']\n",
        "    unload_times = load_unload_time['q'+str(qnum)+'_unload']\n",
        "    for participant in range(rows):\n",
        "        # provide value for each time_data entry (including null) to preserve participant integrity\n",
        "        time_diff = load_times[participant]\n",
        "        # convert non-null load and unload entries to datetime objects\n",
        "        # find difference between non-null entries\n",
        "        if (not(pd.isnull(load_times[participant]))):\n",
        "            load_times[participant] = datetime.strptime(load_times[participant], \"%a, %d %b %Y %H:%M:%S %Z\")\n",
        "            unload_times[participant] = datetime.strptime(unload_times[participant], \"%a, %d %b %Y %H:%M:%S %Z\")\n",
        "            time_diff = unload_times[participant] - load_times[participant]\n",
        "        # store time differences in time_data\n",
        "        time_data['p'+str(participant)+'_q'+str(qnum)] = time_diff\n",
        "        participant += 1\n",
        "    qnum += 1\n",
        "\n",
        "# use for various question timing calculations\n",
        "# average time per question\n",
        "avg_q_time = []\n",
        "for qnum in range(num_quests):\n",
        "    sum = 0\n",
        "    part_ctr = 0\n",
        "    for participant in range(rows):\n",
        "        if (not(pd.isnull(time_data['p'+str(participant)+'_q'+str(qnum)]))):\n",
        "            sum += time_data['p'+str(participant)+'_q'+str(qnum)].total_seconds()\n",
        "            part_ctr += 1\n",
        "    avg = sum / part_ctr\n",
        "    avg_q_time.append(avg)\n",
        "\n",
        "for i in range(len(avg_q_time)):\n",
        "    print(\"Q\"+str(i)+\" avg time: \"+str(avg_q_time[i]))\n",
        "\n",
        "# average time per participant\n",
        "     \n",
        "\n",
        "time_data_out = pd.DataFrame.from_dict(time_data, orient = 'index')\n",
        "avg_q_time_out = pd.DataFrame(avg_q_time)\n",
        "\n",
        "# uncomment when running in Colab\n",
        "time_data_out.to_csv('/content/drive/MyDrive/Colab Notebooks/time_data.csv')\n",
        "avg_q_time_out.to_csv('/content/drive/MyDrive/Colab Notebooks/avg_q_time.csv')\n",
        "\n",
        "# comment out when running in Colab\n",
        "# time_data_out.to_csv(r\"C:\\Users\\mrcon\\OneDrive\\College\\Research\\Main Study\\Qualtrics\\time_data.csv\")\n",
        "# avg_q_time_out.to_csv(r\"C:\\Users\\mrcon\\OneDrive\\College\\Research\\Main Study\\Qualtrics\\avg_q_time.csv\")"
      ],
      "metadata": {
        "id": "_789IMNyDgRL",
        "colab": {
          "base_uri": "https://localhost:8080/"
        },
        "outputId": "43fcd9d5-8a0a-45d4-bc3f-47a4091701ba"
      },
      "execution_count": null,
      "outputs": [
        {
          "output_type": "stream",
          "name": "stdout",
          "text": [
            "Q0 avg time: 12.666666666666666\n",
            "Q1 avg time: 7.333333333333333\n",
            "Q2 avg time: 5.666666666666667\n",
            "Q3 avg time: 12.0\n",
            "Q4 avg time: 15.25\n",
            "Q5 avg time: 7.0\n"
          ]
        }
      ]
    },
    {
      "cell_type": "code",
      "source": [
        ""
      ],
      "metadata": {
        "id": "mVRckJ1AFgTE"
      },
      "execution_count": null,
      "outputs": []
    }
  ]
}