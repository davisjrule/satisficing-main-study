{
 "cells": [
  {
   "cell_type": "code",
   "execution_count": 1,
   "id": "83e994d9",
   "metadata": {},
   "outputs": [],
   "source": [
    "# libraries\n",
    "import csv\n",
    "import numpy as np\n",
    "import pandas as pd\n",
    "import matplotlib.pyplot as plt\n",
    "from random import shuffle\n",
    "import lightgbm as lgb\n",
    "from sklearn.model_selection import train_test_split\n",
    "import warnings\n",
    "warnings.filterwarnings('ignore')"
   ]
  },
  {
   "cell_type": "markdown",
   "id": "1213e4ff",
   "metadata": {},
   "source": [
    "## 1. The Dataset: Adult Income Data"
   ]
  },
  {
   "cell_type": "markdown",
   "id": "aa7285c2",
   "metadata": {},
   "source": [
    "#### The Adult Income dataset is a classification dataset: it is used for a prediction task where the goal is to determine whether a person makes over 50k a year. The list of attributes is as follows:\n",
    "- output variable: **Income**, <=50k and >50k (converted to 0 and 1 respectively)\n",
    "- input features: \n",
    "    - **Age**: a continuous number\n",
    "    - **WorkClass**: a categorical variable that represents different work sectors, including values such as Federal employee, Private, Self-emp-not-inc, Self-emp-inc, Federal-gov, Local-gov, State-gov, Without-pay, Never-worked, Federal worker\n",
    "    - **Education**: a categorical variable that represents the level of education, including values such as Bachelors, Some-college, 11th, HS-grad, Prof-school, Assoc-acdm, Assoc-voc, 9th, 7th-8th, 12th, Masters, 1st-4th, 10th, Doctorate, 5th-6th, Preschool\n",
    "    - **MaritalStatus**: a categorical variable with values Married-civ-spouse (Married to a civilian spouse), Divorced, Never-married, Separated, Widowed, Married-spouse-absent, Married-AF-spouse (Married to someone in the Armed Forces) \n",
    "    - **Occupation**: a categorical variable with values Tech-support, Craft-repair, Other-service, Sales, Exec-managerial, Prof-specialty, Handlers-cleaners, Machine-op-inspct, Adm-clerical, Farming-fishing, Transport-moving, Priv-house-serv, Protective-serv, Armed-Forces\n",
    "    - **EducationNum**: a continuous value that represents the level of education (0 = Preschool, 16 = Doctorate)\n",
    "    - **Race**: a categorical variable with values White, Asian-Pac-Islander, Amer-Indian-Eskimo, Other, Black \n",
    "    - **Gender**: a binary variable, includes Female and Male\n",
    "    - **CapitalGain**: a continuous number\n",
    "    - **CapitalLoss**: a continuous number\n",
    "    - **HoursPerWeek**: a categorical variable including hour ranges of 0-30, 30-60, 60-90, 90+\n",
    "    - **NativeCountry**: a categorical variable including countries such as United-States, Cambodia, England, Puerto-Rico, Canada, Germany, Outlying-US(Guam-USVI-etc), India, Japan, Greece, South, China, Cuba, Iran, Honduras, Philippines, Italy, Poland, Jamaica, Vietnam, Mexico, Portugal, Ireland, France, Dominican-Republic, Laos, Ecuador, Taiwan, Haiti, Columbia, Hungary, Guatemala, Nicaragua, Scotland, Thailand, Yugoslavia, El-Salvador, Trinadad&Tobago, Peru, Hong, Holand-Netherlands"
   ]
  },
  {
   "cell_type": "code",
   "execution_count": 3,
   "id": "907fd25b",
   "metadata": {},
   "outputs": [
    {
     "data": {
      "text/html": [
       "<div>\n",
       "<style scoped>\n",
       "    .dataframe tbody tr th:only-of-type {\n",
       "        vertical-align: middle;\n",
       "    }\n",
       "\n",
       "    .dataframe tbody tr th {\n",
       "        vertical-align: top;\n",
       "    }\n",
       "\n",
       "    .dataframe thead th {\n",
       "        text-align: right;\n",
       "    }\n",
       "</style>\n",
       "<table border=\"1\" class=\"dataframe\">\n",
       "  <thead>\n",
       "    <tr style=\"text-align: right;\">\n",
       "      <th></th>\n",
       "      <th>Age</th>\n",
       "      <th>WorkClass</th>\n",
       "      <th>Education</th>\n",
       "      <th>EducationNum</th>\n",
       "      <th>MaritalStatus</th>\n",
       "      <th>Occupation</th>\n",
       "      <th>Race</th>\n",
       "      <th>Gender</th>\n",
       "      <th>CapitalGain</th>\n",
       "      <th>CapitalLoss</th>\n",
       "      <th>HoursPerWeek</th>\n",
       "      <th>NativeCountry</th>\n",
       "      <th>Income</th>\n",
       "    </tr>\n",
       "  </thead>\n",
       "  <tbody>\n",
       "    <tr>\n",
       "      <th>0</th>\n",
       "      <td>52</td>\n",
       "      <td>Self-emp-not-inc</td>\n",
       "      <td>HS-grad</td>\n",
       "      <td>9</td>\n",
       "      <td>Married-civ-spouse</td>\n",
       "      <td>Exec-managerial</td>\n",
       "      <td>White</td>\n",
       "      <td>Male</td>\n",
       "      <td>0</td>\n",
       "      <td>0</td>\n",
       "      <td>30-60</td>\n",
       "      <td>United-States</td>\n",
       "      <td>&gt;50K</td>\n",
       "    </tr>\n",
       "    <tr>\n",
       "      <th>1</th>\n",
       "      <td>31</td>\n",
       "      <td>Private</td>\n",
       "      <td>Masters</td>\n",
       "      <td>14</td>\n",
       "      <td>Never-married</td>\n",
       "      <td>Prof-specialty</td>\n",
       "      <td>White</td>\n",
       "      <td>Female</td>\n",
       "      <td>14084</td>\n",
       "      <td>0</td>\n",
       "      <td>30-60</td>\n",
       "      <td>United-States</td>\n",
       "      <td>&gt;50K</td>\n",
       "    </tr>\n",
       "    <tr>\n",
       "      <th>2</th>\n",
       "      <td>42</td>\n",
       "      <td>Private</td>\n",
       "      <td>Bachelors</td>\n",
       "      <td>13</td>\n",
       "      <td>Married-civ-spouse</td>\n",
       "      <td>Exec-managerial</td>\n",
       "      <td>White</td>\n",
       "      <td>Male</td>\n",
       "      <td>5178</td>\n",
       "      <td>0</td>\n",
       "      <td>30-60</td>\n",
       "      <td>United-States</td>\n",
       "      <td>&gt;50K</td>\n",
       "    </tr>\n",
       "    <tr>\n",
       "      <th>3</th>\n",
       "      <td>37</td>\n",
       "      <td>Private</td>\n",
       "      <td>Some-college</td>\n",
       "      <td>10</td>\n",
       "      <td>Married-civ-spouse</td>\n",
       "      <td>Exec-managerial</td>\n",
       "      <td>Black</td>\n",
       "      <td>Male</td>\n",
       "      <td>0</td>\n",
       "      <td>0</td>\n",
       "      <td>60-90</td>\n",
       "      <td>United-States</td>\n",
       "      <td>&gt;50K</td>\n",
       "    </tr>\n",
       "    <tr>\n",
       "      <th>4</th>\n",
       "      <td>30</td>\n",
       "      <td>State-gov</td>\n",
       "      <td>Bachelors</td>\n",
       "      <td>13</td>\n",
       "      <td>Married-civ-spouse</td>\n",
       "      <td>Prof-specialty</td>\n",
       "      <td>Asian-Pac-Islander</td>\n",
       "      <td>Male</td>\n",
       "      <td>0</td>\n",
       "      <td>0</td>\n",
       "      <td>30-60</td>\n",
       "      <td>India</td>\n",
       "      <td>&gt;50K</td>\n",
       "    </tr>\n",
       "  </tbody>\n",
       "</table>\n",
       "</div>"
      ],
      "text/plain": [
       "   Age         WorkClass     Education  EducationNum       MaritalStatus  \\\n",
       "0   52  Self-emp-not-inc       HS-grad             9  Married-civ-spouse   \n",
       "1   31           Private       Masters            14       Never-married   \n",
       "2   42           Private     Bachelors            13  Married-civ-spouse   \n",
       "3   37           Private  Some-college            10  Married-civ-spouse   \n",
       "4   30         State-gov     Bachelors            13  Married-civ-spouse   \n",
       "\n",
       "        Occupation                Race  Gender  CapitalGain  CapitalLoss  \\\n",
       "0  Exec-managerial               White    Male            0            0   \n",
       "1   Prof-specialty               White  Female        14084            0   \n",
       "2  Exec-managerial               White    Male         5178            0   \n",
       "3  Exec-managerial               Black    Male            0            0   \n",
       "4   Prof-specialty  Asian-Pac-Islander    Male            0            0   \n",
       "\n",
       "  HoursPerWeek  NativeCountry Income  \n",
       "0        30-60  United-States   >50K  \n",
       "1        30-60  United-States   >50K  \n",
       "2        30-60  United-States   >50K  \n",
       "3        60-90  United-States   >50K  \n",
       "4        30-60          India   >50K  "
      ]
     },
     "execution_count": 3,
     "metadata": {},
     "output_type": "execute_result"
    }
   ],
   "source": [
    "df = pd.read_csv(\"Data/income_training_updated.csv\")\n",
    "\n",
    "df.columns = [\n",
    "        \"Age\", \"WorkClass\", \"fnlwgt\", \"Education\", \"EducationNum\",\n",
    "        \"MaritalStatus\", \"Occupation\", \"Relationship\", \"Race\", \"Gender\",\n",
    "        \"CapitalGain\", \"CapitalLoss\", \"HoursPerWeek\", \"NativeCountry\", \"Income\"]\n",
    "\n",
    "def convert_hours(x):\n",
    "    if x < 30:\n",
    "        return \"0-30\"\n",
    "    elif x < 60:\n",
    "        return \"30-60\"\n",
    "    elif x < 90:\n",
    "        return \"60-90\"\n",
    "    else:\n",
    "        return \"90+\"\n",
    "\n",
    "df['HoursPerWeek'] = df['HoursPerWeek'].apply(lambda x: convert_hours(x))\n",
    "\n",
    "cols = [\n",
    "        \"Age\", \"WorkClass\", \"Education\",\"EducationNum\", \"MaritalStatus\", \"Occupation\", \"Race\", \"Gender\",\n",
    "        \"CapitalGain\", \"CapitalLoss\", \"HoursPerWeek\", \"NativeCountry\", \"Income\"]\n",
    "df = df[cols]\n",
    "\n",
    "\n",
    "train_cols = df.columns[0:-1]\n",
    "label = df.columns[-1]\n",
    "X_df = df[train_cols]\n",
    "y_df = df[label]\n",
    "\n",
    "X_display = X_df.copy()\n",
    "\n",
    "#Converting strings to integers and floats for categorical data\n",
    "categorical_cols = [\"WorkClass\", \"Education\", \"MaritalStatus\", \"Occupation\", \"Race\", \"Gender\", \"NativeCountry\", \"HoursPerWeek\"]\n",
    "\n",
    "for col in categorical_cols:\n",
    "    X_df[col] = pd.Categorical(X_df[col])\n",
    "    X_df[col] = X_df[col].cat.codes\n",
    "\n",
    "\n",
    "#Converting the response / output variable to a binary class\n",
    "y_df = y_df.apply(lambda x: 0 if x == \"<=50K\" else 1)\n",
    "\n",
    "\n",
    "#Top 5 rows of the original dataset:\n",
    "df.head()"
   ]
  },
  {
   "cell_type": "code",
   "execution_count": 4,
   "id": "e32aa937",
   "metadata": {},
   "outputs": [
    {
     "data": {
      "text/html": [
       "<div>\n",
       "<style scoped>\n",
       "    .dataframe tbody tr th:only-of-type {\n",
       "        vertical-align: middle;\n",
       "    }\n",
       "\n",
       "    .dataframe tbody tr th {\n",
       "        vertical-align: top;\n",
       "    }\n",
       "\n",
       "    .dataframe thead th {\n",
       "        text-align: right;\n",
       "    }\n",
       "</style>\n",
       "<table border=\"1\" class=\"dataframe\">\n",
       "  <thead>\n",
       "    <tr style=\"text-align: right;\">\n",
       "      <th></th>\n",
       "      <th>Age</th>\n",
       "      <th>WorkClass</th>\n",
       "      <th>Education</th>\n",
       "      <th>EducationNum</th>\n",
       "      <th>MaritalStatus</th>\n",
       "      <th>Occupation</th>\n",
       "      <th>Race</th>\n",
       "      <th>Gender</th>\n",
       "      <th>CapitalGain</th>\n",
       "      <th>CapitalLoss</th>\n",
       "      <th>HoursPerWeek</th>\n",
       "      <th>NativeCountry</th>\n",
       "      <th>Income</th>\n",
       "    </tr>\n",
       "  </thead>\n",
       "  <tbody>\n",
       "    <tr>\n",
       "      <th>0</th>\n",
       "      <td>25</td>\n",
       "      <td>Private</td>\n",
       "      <td>11th</td>\n",
       "      <td>7</td>\n",
       "      <td>Never-married</td>\n",
       "      <td>Machine-op-inspct</td>\n",
       "      <td>Black</td>\n",
       "      <td>Male</td>\n",
       "      <td>0</td>\n",
       "      <td>0</td>\n",
       "      <td>30-60</td>\n",
       "      <td>United-States</td>\n",
       "      <td>&lt;=50K</td>\n",
       "    </tr>\n",
       "    <tr>\n",
       "      <th>1</th>\n",
       "      <td>38</td>\n",
       "      <td>Private</td>\n",
       "      <td>HS-grad</td>\n",
       "      <td>9</td>\n",
       "      <td>Married-civ-spouse</td>\n",
       "      <td>Farming-fishing</td>\n",
       "      <td>White</td>\n",
       "      <td>Male</td>\n",
       "      <td>0</td>\n",
       "      <td>0</td>\n",
       "      <td>30-60</td>\n",
       "      <td>United-States</td>\n",
       "      <td>&lt;=50K</td>\n",
       "    </tr>\n",
       "    <tr>\n",
       "      <th>2</th>\n",
       "      <td>28</td>\n",
       "      <td>Local-gov</td>\n",
       "      <td>Assoc-acdm</td>\n",
       "      <td>12</td>\n",
       "      <td>Married-civ-spouse</td>\n",
       "      <td>Protective-serv</td>\n",
       "      <td>White</td>\n",
       "      <td>Male</td>\n",
       "      <td>0</td>\n",
       "      <td>0</td>\n",
       "      <td>30-60</td>\n",
       "      <td>United-States</td>\n",
       "      <td>&gt;50K</td>\n",
       "    </tr>\n",
       "    <tr>\n",
       "      <th>3</th>\n",
       "      <td>44</td>\n",
       "      <td>Private</td>\n",
       "      <td>Some-college</td>\n",
       "      <td>10</td>\n",
       "      <td>Married-civ-spouse</td>\n",
       "      <td>Machine-op-inspct</td>\n",
       "      <td>Black</td>\n",
       "      <td>Male</td>\n",
       "      <td>7688</td>\n",
       "      <td>0</td>\n",
       "      <td>30-60</td>\n",
       "      <td>United-States</td>\n",
       "      <td>&gt;50K</td>\n",
       "    </tr>\n",
       "    <tr>\n",
       "      <th>4</th>\n",
       "      <td>18</td>\n",
       "      <td>?</td>\n",
       "      <td>Some-college</td>\n",
       "      <td>10</td>\n",
       "      <td>Never-married</td>\n",
       "      <td>?</td>\n",
       "      <td>White</td>\n",
       "      <td>Female</td>\n",
       "      <td>0</td>\n",
       "      <td>0</td>\n",
       "      <td>30-60</td>\n",
       "      <td>United-States</td>\n",
       "      <td>&lt;=50K</td>\n",
       "    </tr>\n",
       "  </tbody>\n",
       "</table>\n",
       "</div>"
      ],
      "text/plain": [
       "   Age  WorkClass     Education  EducationNum       MaritalStatus  \\\n",
       "0   25    Private          11th             7       Never-married   \n",
       "1   38    Private       HS-grad             9  Married-civ-spouse   \n",
       "2   28  Local-gov    Assoc-acdm            12  Married-civ-spouse   \n",
       "3   44    Private  Some-college            10  Married-civ-spouse   \n",
       "4   18          ?  Some-college            10       Never-married   \n",
       "\n",
       "          Occupation   Race  Gender  CapitalGain  CapitalLoss HoursPerWeek  \\\n",
       "0  Machine-op-inspct  Black    Male            0            0        30-60   \n",
       "1    Farming-fishing  White    Male            0            0        30-60   \n",
       "2    Protective-serv  White    Male            0            0        30-60   \n",
       "3  Machine-op-inspct  Black    Male         7688            0        30-60   \n",
       "4                  ?  White  Female            0            0        30-60   \n",
       "\n",
       "   NativeCountry Income  \n",
       "0  United-States  <=50K  \n",
       "1  United-States  <=50K  \n",
       "2  United-States   >50K  \n",
       "3  United-States   >50K  \n",
       "4  United-States  <=50K  "
      ]
     },
     "execution_count": 4,
     "metadata": {},
     "output_type": "execute_result"
    }
   ],
   "source": [
    "df = pd.read_csv(\"Data/income_test_orig.csv\")\n",
    "\n",
    "df.columns = [\n",
    "        \"Age\", \"WorkClass\", \"fnlwgt\", \"Education\", \"EducationNum\",\n",
    "        \"MaritalStatus\", \"Occupation\", \"Relationship\", \"Race\", \"Gender\",\n",
    "        \"CapitalGain\", \"CapitalLoss\", \"HoursPerWeek\", \"NativeCountry\", \"Income\"]\n",
    "\n",
    "def convert_hours(x):\n",
    "    if x < 30:\n",
    "        return \"0-30\"\n",
    "    elif x < 60:\n",
    "        return \"30-60\"\n",
    "    elif x < 90:\n",
    "        return \"60-90\"\n",
    "    else:\n",
    "        return \"90+\"\n",
    "\n",
    "df['HoursPerWeek'] = df['HoursPerWeek'].apply(lambda x: convert_hours(x))\n",
    "\n",
    "cols = [\n",
    "        \"Age\", \"WorkClass\", \"Education\",\"EducationNum\", \"MaritalStatus\", \"Occupation\", \"Race\", \"Gender\",\n",
    "        \"CapitalGain\", \"CapitalLoss\", \"HoursPerWeek\", \"NativeCountry\", \"Income\"]\n",
    "df = df[cols]\n",
    "\n",
    "\n",
    "train_cols = df.columns[0:-1]\n",
    "label = df.columns[-1]\n",
    "test_X_df = df[train_cols]\n",
    "test_y_df = df[label]\n",
    "\n",
    "\n",
    "#Converting strings to integers and floats for categorical data\n",
    "categorical_cols = [\"WorkClass\", \"Education\", \"MaritalStatus\", \"Occupation\", \"Race\", \"Gender\", \"NativeCountry\", \"HoursPerWeek\"]\n",
    "\n",
    "for col in categorical_cols:\n",
    "    test_X_df[col] = pd.Categorical(test_X_df[col])\n",
    "    test_X_df[col] = test_X_df[col].cat.codes\n",
    "\n",
    "\n",
    "#Converting the response / output variable to a binary class\n",
    "test_y_df = test_y_df.apply(lambda x: 0 if x == \"<=50K\" else 1)\n",
    "\n",
    "\n",
    "#Top 5 rows of the original dataset:\n",
    "df.head()"
   ]
  },
  {
   "cell_type": "markdown",
   "id": "258349aa",
   "metadata": {},
   "source": [
    "## 2. The Model: LightGBM"
   ]
  },
  {
   "cell_type": "code",
   "execution_count": 5,
   "id": "91982d45",
   "metadata": {},
   "outputs": [
    {
     "name": "stdout",
     "output_type": "stream",
     "text": [
      "[LightGBM] [Warning] Auto-choosing row-wise multi-threading, the overhead of testing was 0.001479 seconds.\n",
      "You can set `force_row_wise=true` to remove the overhead.\n",
      "And if memory is not enough, you can set `force_col_wise=true`.\n",
      "[LightGBM] [Info] Total Bins 358\n",
      "[LightGBM] [Info] Number of data points in the train set: 32561, number of used features: 12\n",
      "[LightGBM] [Info] Start training from score 0.240810\n"
     ]
    }
   ],
   "source": [
    "d_train = lgb.Dataset(X_df, label=y_df)\n",
    "d_test = lgb.Dataset(test_X_df, label=test_y_df)\n",
    "\n",
    "# train a lightgbm for the training dataset\n",
    "model = lgb.train({}, d_train)"
   ]
  },
  {
   "cell_type": "code",
   "execution_count": 6,
   "id": "2c3edcbe",
   "metadata": {
    "scrolled": true
   },
   "outputs": [
    {
     "name": "stdout",
     "output_type": "stream",
     "text": [
      "The accuracy of the model on the training set is:  0.8832\n",
      "The accuracy of the model on the test set is:  0.87003\n"
     ]
    }
   ],
   "source": [
    "#Training accuracy\n",
    "train_pred = model.predict(X_df).tolist()\n",
    "train_pred = [0 if x<=0.5 else 1 for x in train_pred]\n",
    "accuracy_train = round(sum(train_pred == y_df) / len(train_pred), 5)\n",
    "\n",
    "#Test set accuracy\n",
    "predictions = model.predict(test_X_df).tolist()\n",
    "predictions = [0 if x <= 0.5 else 1 for x in predictions]\n",
    "\n",
    "accuracy_test = round(sum(predictions == test_y_df) / len(predictions), 5)\n",
    "\n",
    "print(\"The accuracy of the model on the training set is: \", accuracy_train)\n",
    "print(\"The accuracy of the model on the test set is: \", accuracy_test)\n",
    "\n",
    "indices = [index for index, value in enumerate(zip(predictions, test_y_df.tolist())) if value[0] != value[1]]\n",
    "shuffle(indices)"
   ]
  },
  {
   "cell_type": "markdown",
   "id": "0b732029",
   "metadata": {},
   "source": [
    "### Visualize Global Explanations: What the model learned overall from training data"
   ]
  },
  {
   "cell_type": "code",
   "execution_count": 7,
   "id": "c226b72f",
   "metadata": {},
   "outputs": [
    {
     "name": "stdout",
     "output_type": "stream",
     "text": [
      "     feature_name  importance\n",
      "0             Age         676\n",
      "1     CapitalLoss         395\n",
      "2     CapitalGain         374\n",
      "3      Occupation         366\n",
      "4    EducationNum         309\n",
      "5   MaritalStatus         248\n",
      "6       WorkClass         159\n",
      "7       Education         147\n",
      "8    HoursPerWeek         103\n",
      "9   NativeCountry          92\n",
      "10         Gender          75\n",
      "11           Race          56\n"
     ]
    }
   ],
   "source": [
    "# Global feature importance values\n",
    "importance_df = (\n",
    "    pd.DataFrame({\n",
    "        'feature_name': model.feature_name(),\n",
    "        'importance': model.feature_importance(),\n",
    "    })\n",
    "    .sort_values('importance', ascending=False)\n",
    "    .reset_index(drop=True)\n",
    ")\n",
    "print(importance_df)"
   ]
  },
  {
   "cell_type": "code",
   "execution_count": 8,
   "id": "e83fbcb5",
   "metadata": {},
   "outputs": [
    {
     "data": {
      "image/png": "[encoded data removed]",
      "text/plain": [
       "<Figure size 432x288 with 1 Axes>"
      ]
     },
     "metadata": {
      "needs_background": "light"
     },
     "output_type": "display_data"
    }
   ],
   "source": [
    "# Global feature importance chart\n",
    "ax = lgb.plot_importance(model, max_num_features=10)\n",
    "plt.show()"
   ]
  },
  {
   "cell_type": "markdown",
   "id": "4792507f",
   "metadata": {},
   "source": [
    "### Visualize Global Explanations for Specific Input Features: What the model learned about a feature from the training data"
   ]
  },
  {
   "cell_type": "code",
   "execution_count": 9,
   "id": "5f15b0aa",
   "metadata": {},
   "outputs": [
    {
     "data": {
      "text/plain": [
       "<sklearn.inspection._plot.partial_dependence.PartialDependenceDisplay at 0x7fb563b0c3d0>"
      ]
     },
     "execution_count": 9,
     "metadata": {},
     "output_type": "execute_result"
    },
    {
     "data": {
      "image/png": "[encoded data removed]",
      "text/plain": [
       "<Figure size 432x288 with 2 Axes>"
      ]
     },
     "metadata": {
      "needs_background": "light"
     },
     "output_type": "display_data"
    }
   ],
   "source": [
    "from sklearn.ensemble import GradientBoostingClassifier\n",
    "from sklearn.inspection import PartialDependenceDisplay\n",
    "\n",
    "clf = GradientBoostingClassifier(n_estimators=100, learning_rate=1.0,\n",
    "      max_depth=1, random_state=0).fit(X_df, y_df)\n",
    "features = [\"Age\"]\n",
    "PartialDependenceDisplay.from_estimator(clf, X_df, features)"
   ]
  },
  {
   "cell_type": "code",
   "execution_count": 10,
   "id": "3fe6b044",
   "metadata": {},
   "outputs": [
    {
     "ename": "TypeError",
     "evalue": "tuple indices must be integers or slices, not str",
     "output_type": "error",
     "traceback": [
      "\u001b[0;31m---------------------------------------------------------------------------\u001b[0m",
      "\u001b[0;31mTypeError\u001b[0m                                 Traceback (most recent call last)",
      "\u001b[0;32m/var/folders/zk/gq_1njv54tn9pvbmfr94gx5m0000gn/T/ipykernel_17015/2955974629.py\u001b[0m in \u001b[0;36m<module>\u001b[0;34m\u001b[0m\n\u001b[1;32m      5\u001b[0m \u001b[0;34m\u001b[0m\u001b[0m\n\u001b[1;32m      6\u001b[0m \u001b[0;31m# results[\"values\"]\u001b[0m\u001b[0;34m\u001b[0m\u001b[0;34m\u001b[0m\u001b[0;34m\u001b[0m\u001b[0m\n\u001b[0;32m----> 7\u001b[0;31m \u001b[0mresults\u001b[0m\u001b[0;34m[\u001b[0m\u001b[0;34m\"average\"\u001b[0m\u001b[0;34m]\u001b[0m\u001b[0;34m\u001b[0m\u001b[0;34m\u001b[0m\u001b[0m\n\u001b[0m",
      "\u001b[0;31mTypeError\u001b[0m: tuple indices must be integers or slices, not str"
     ]
    }
   ],
   "source": [
    "# The raw values can be found below\n",
    "from sklearn.inspection import partial_dependence\n",
    "\n",
    "results = partial_dependence(clf, X_df, [\"Age\"])\n",
    "\n",
    "# results[\"values\"]\n",
    "results[\"average\"]"
   ]
  },
  {
   "cell_type": "code",
   "execution_count": null,
   "id": "18a9a33f",
   "metadata": {},
   "outputs": [],
   "source": []
  }
 ],
 "metadata": {
  "kernelspec": {
   "display_name": "Python 3 (ipykernel)",
   "language": "python",
   "name": "python3"
  },
  "language_info": {
   "codemirror_mode": {
    "name": "ipython",
    "version": 3
   },
   "file_extension": ".py",
   "mimetype": "text/x-python",
   "name": "python",
   "nbconvert_exporter": "python",
   "pygments_lexer": "ipython3",
   "version": "3.8.12"
  }
 },
 "nbformat": 4,
 "nbformat_minor": 5
}
