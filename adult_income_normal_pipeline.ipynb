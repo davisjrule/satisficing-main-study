{
 "cells": [
  {
   "cell_type": "code",
   "execution_count": 1,
   "id": "83e994d9",
   "metadata": {},
   "outputs": [],
   "source": [
    "# libraries\n",
    "import csv\n",
    "import numpy as np\n",
    "import pandas as pd\n",
    "import matplotlib.pyplot as plt\n",
    "from random import shuffle\n",
    "import lightgbm as lgb\n",
    "from sklearn.model_selection import train_test_split\n",
    "import warnings\n",
    "warnings.filterwarnings('ignore')"
   ]
  },
  {
   "cell_type": "markdown",
   "id": "1213e4ff",
   "metadata": {},
   "source": [
    "## 1. The Dataset: Adult Income Data"
   ]
  },
  {
   "cell_type": "markdown",
   "id": "aa7285c2",
   "metadata": {},
   "source": [
    "#### The Adult Income dataset is a classification dataset: it is used for a prediction task where the goal is to determine whether a person makes over 50k a year. The list of attributes is as follows:\n",
    "- output variable: **Income**, <=50k and >50k (converted to 0 and 1 respectively)\n",
    "- input features: \n",
    "    - **Age**: a continuous number\n",
    "    - **WorkClass**: a categorical variable that represents different work sectors, including values such as Federal employee, Private, Self-emp-not-inc, Self-emp-inc, Federal-gov, Local-gov, State-gov, Without-pay, Never-worked, Federal worker\n",
    "    - **Education**: a categorical variable that represents the level of education, including values such as Bachelors, Some-college, 11th, HS-grad, Prof-school, Assoc-acdm, Assoc-voc, 9th, 7th-8th, 12th, Masters, 1st-4th, 10th, Doctorate, 5th-6th, Preschool\n",
    "    - **MaritalStatus**: a categorical variable with values Married-civ-spouse (Married to a civilian spouse), Divorced, Never-married, Separated, Widowed, Married-spouse-absent, Married-AF-spouse (Married to someone in the Armed Forces) \n",
    "    - **Occupation**: a categorical variable with values Tech-support, Craft-repair, Other-service, Sales, Exec-managerial, Prof-specialty, Handlers-cleaners, Machine-op-inspct, Adm-clerical, Farming-fishing, Transport-moving, Priv-house-serv, Protective-serv, Armed-Forces\n",
    "    - **EducationNum**: a continuous value that represents the level of education (0 = Preschool, 16 = Doctorate)\n",
    "    - **Race**: a categorical variable with values White, Asian-Pac-Islander, Amer-Indian-Eskimo, Other, Black \n",
    "    - **Gender**: a binary variable, includes Female and Male\n",
    "    - **CapitalGain**: a continuous number\n",
    "    - **CapitalLoss**: a continuous number\n",
    "    - **HoursPerWeek**: a categorical variable including hour ranges of 0-30, 30-60, 60-90, 90+\n",
    "    - **NativeCountry**: a categorical variable including countries such as United-States, Cambodia, England, Puerto-Rico, Canada, Germany, Outlying-US(Guam-USVI-etc), India, Japan, Greece, South, China, Cuba, Iran, Honduras, Philippines, Italy, Poland, Jamaica, Vietnam, Mexico, Portugal, Ireland, France, Dominican-Republic, Laos, Ecuador, Taiwan, Haiti, Columbia, Hungary, Guatemala, Nicaragua, Scotland, Thailand, Yugoslavia, El-Salvador, Trinadad&Tobago, Peru, Hong, Holand-Netherlands"
   ]
  },
  {
   "cell_type": "code",
   "execution_count": 2,
   "id": "907fd25b",
   "metadata": {},
   "outputs": [
    {
     "data": {
      "text/html": [
       "<div>\n",
       "<style scoped>\n",
       "    .dataframe tbody tr th:only-of-type {\n",
       "        vertical-align: middle;\n",
       "    }\n",
       "\n",
       "    .dataframe tbody tr th {\n",
       "        vertical-align: top;\n",
       "    }\n",
       "\n",
       "    .dataframe thead th {\n",
       "        text-align: right;\n",
       "    }\n",
       "</style>\n",
       "<table border=\"1\" class=\"dataframe\">\n",
       "  <thead>\n",
       "    <tr style=\"text-align: right;\">\n",
       "      <th></th>\n",
       "      <th>Age</th>\n",
       "      <th>WorkClass</th>\n",
       "      <th>Education</th>\n",
       "      <th>EducationNum</th>\n",
       "      <th>MaritalStatus</th>\n",
       "      <th>Occupation</th>\n",
       "      <th>Race</th>\n",
       "      <th>Gender</th>\n",
       "      <th>CapitalGain</th>\n",
       "      <th>CapitalLoss</th>\n",
       "      <th>HoursPerWeek</th>\n",
       "      <th>NativeCountry</th>\n",
       "      <th>Income</th>\n",
       "    </tr>\n",
       "  </thead>\n",
       "  <tbody>\n",
       "    <tr>\n",
       "      <th>0</th>\n",
       "      <td>39</td>\n",
       "      <td>State-gov</td>\n",
       "      <td>Bachelors</td>\n",
       "      <td>13</td>\n",
       "      <td>Never-married</td>\n",
       "      <td>Adm-clerical</td>\n",
       "      <td>White</td>\n",
       "      <td>Male</td>\n",
       "      <td>2174</td>\n",
       "      <td>0</td>\n",
       "      <td>30-60</td>\n",
       "      <td>United-States</td>\n",
       "      <td>&lt;=50K</td>\n",
       "    </tr>\n",
       "    <tr>\n",
       "      <th>1</th>\n",
       "      <td>50</td>\n",
       "      <td>Self-emp-not-inc</td>\n",
       "      <td>Bachelors</td>\n",
       "      <td>13</td>\n",
       "      <td>Married-civ-spouse</td>\n",
       "      <td>Exec-managerial</td>\n",
       "      <td>White</td>\n",
       "      <td>Male</td>\n",
       "      <td>0</td>\n",
       "      <td>0</td>\n",
       "      <td>0-30</td>\n",
       "      <td>United-States</td>\n",
       "      <td>&lt;=50K</td>\n",
       "    </tr>\n",
       "    <tr>\n",
       "      <th>2</th>\n",
       "      <td>38</td>\n",
       "      <td>Private</td>\n",
       "      <td>HS-grad</td>\n",
       "      <td>9</td>\n",
       "      <td>Divorced</td>\n",
       "      <td>Handlers-cleaners</td>\n",
       "      <td>White</td>\n",
       "      <td>Male</td>\n",
       "      <td>0</td>\n",
       "      <td>0</td>\n",
       "      <td>30-60</td>\n",
       "      <td>United-States</td>\n",
       "      <td>&lt;=50K</td>\n",
       "    </tr>\n",
       "    <tr>\n",
       "      <th>3</th>\n",
       "      <td>53</td>\n",
       "      <td>Private</td>\n",
       "      <td>11th</td>\n",
       "      <td>7</td>\n",
       "      <td>Married-civ-spouse</td>\n",
       "      <td>Handlers-cleaners</td>\n",
       "      <td>Black</td>\n",
       "      <td>Male</td>\n",
       "      <td>0</td>\n",
       "      <td>0</td>\n",
       "      <td>30-60</td>\n",
       "      <td>United-States</td>\n",
       "      <td>&lt;=50K</td>\n",
       "    </tr>\n",
       "    <tr>\n",
       "      <th>4</th>\n",
       "      <td>28</td>\n",
       "      <td>Private</td>\n",
       "      <td>Bachelors</td>\n",
       "      <td>13</td>\n",
       "      <td>Married-civ-spouse</td>\n",
       "      <td>Prof-specialty</td>\n",
       "      <td>Black</td>\n",
       "      <td>Female</td>\n",
       "      <td>0</td>\n",
       "      <td>0</td>\n",
       "      <td>30-60</td>\n",
       "      <td>Cuba</td>\n",
       "      <td>&lt;=50K</td>\n",
       "    </tr>\n",
       "  </tbody>\n",
       "</table>\n",
       "</div>"
      ],
      "text/plain": [
       "   Age          WorkClass   Education  EducationNum        MaritalStatus  \\\n",
       "0   39          State-gov   Bachelors            13        Never-married   \n",
       "1   50   Self-emp-not-inc   Bachelors            13   Married-civ-spouse   \n",
       "2   38            Private     HS-grad             9             Divorced   \n",
       "3   53            Private        11th             7   Married-civ-spouse   \n",
       "4   28            Private   Bachelors            13   Married-civ-spouse   \n",
       "\n",
       "           Occupation    Race   Gender  CapitalGain  CapitalLoss HoursPerWeek  \\\n",
       "0        Adm-clerical   White     Male         2174            0        30-60   \n",
       "1     Exec-managerial   White     Male            0            0         0-30   \n",
       "2   Handlers-cleaners   White     Male            0            0        30-60   \n",
       "3   Handlers-cleaners   Black     Male            0            0        30-60   \n",
       "4      Prof-specialty   Black   Female            0            0        30-60   \n",
       "\n",
       "    NativeCountry  Income  \n",
       "0   United-States   <=50K  \n",
       "1   United-States   <=50K  \n",
       "2   United-States   <=50K  \n",
       "3   United-States   <=50K  \n",
       "4            Cuba   <=50K  "
      ]
     },
     "execution_count": 2,
     "metadata": {},
     "output_type": "execute_result"
    }
   ],
   "source": [
    "df = pd.read_csv(\"adult_income_orig.csv\")\n",
    "\n",
    "df.columns = [\n",
    "        \"Age\", \"WorkClass\", \"fnlwgt\", \"Education\", \"EducationNum\",\n",
    "        \"MaritalStatus\", \"Occupation\", \"Relationship\", \"Race\", \"Gender\",\n",
    "        \"CapitalGain\", \"CapitalLoss\", \"HoursPerWeek\", \"NativeCountry\", \"Income\"]\n",
    "\n",
    "def convert_hours(x):\n",
    "    if x < 30:\n",
    "        return \"0-30\"\n",
    "    elif x < 60:\n",
    "        return \"30-60\"\n",
    "    elif x < 90:\n",
    "        return \"60-90\"\n",
    "    else:\n",
    "        return \"90+\"\n",
    "\n",
    "df['HoursPerWeek'] = df['HoursPerWeek'].apply(lambda x: convert_hours(x))\n",
    "\n",
    "cols = [\n",
    "        \"Age\", \"WorkClass\", \"Education\",\"EducationNum\", \"MaritalStatus\", \"Occupation\", \"Race\", \"Gender\",\n",
    "        \"CapitalGain\", \"CapitalLoss\", \"HoursPerWeek\", \"NativeCountry\", \"Income\"]\n",
    "df = df[cols]\n",
    "\n",
    "\n",
    "train_cols = df.columns[0:-1]\n",
    "label = df.columns[-1]\n",
    "X_df = df[train_cols]\n",
    "y_df = df[label]\n",
    "\n",
    "X_display = X_df.copy()\n",
    "\n",
    "#Converting strings to integers and floats for categorical data\n",
    "categorical_cols = [\"WorkClass\", \"Education\", \"MaritalStatus\", \"Occupation\", \"Race\", \"Gender\", \"NativeCountry\", \"HoursPerWeek\"]\n",
    "\n",
    "for col in categorical_cols:\n",
    "    X_df[col] = pd.Categorical(X_df[col])\n",
    "    X_df[col] = X_df[col].cat.codes\n",
    "\n",
    "\n",
    "#Converting the response / output variable to a binary class\n",
    "y_df = y_df.apply(lambda x: 0 if x == \" <=50K\" else 1)\n",
    "\n",
    "dataset = {\n",
    "        'X': X_df,\n",
    "        'y': y_df,\n",
    "}\n",
    "\n",
    "#Top 5 rows of the original dataset:\n",
    "df.head()"
   ]
  },
  {
   "cell_type": "markdown",
   "id": "258349aa",
   "metadata": {},
   "source": [
    "## 2. The Model: LightGBM"
   ]
  },
  {
   "cell_type": "code",
   "execution_count": 3,
   "id": "91982d45",
   "metadata": {},
   "outputs": [
    {
     "name": "stdout",
     "output_type": "stream",
     "text": [
      "[LightGBM] [Warning] Auto-choosing row-wise multi-threading, the overhead of testing was 0.000865 seconds.\n",
      "You can set `force_row_wise=true` to remove the overhead.\n",
      "And if memory is not enough, you can set `force_col_wise=true`.\n",
      "[LightGBM] [Info] Total Bins 349\n",
      "[LightGBM] [Info] Number of data points in the train set: 24420, number of used features: 12\n",
      "[LightGBM] [Info] Start training from score 0.245823\n"
     ]
    }
   ],
   "source": [
    "# create a train/test split\n",
    "seed = 1\n",
    "X_train, X_test, y_train, y_test = train_test_split(dataset['X'],dataset['y'], test_size=0.25, random_state=seed)\n",
    "\n",
    "d_train = lgb.Dataset(X_train, label=y_train)\n",
    "d_test = lgb.Dataset(X_test, label=y_test)\n",
    "\n",
    "# train a lightgbm for the training dataset\n",
    "model = lgb.train({}, d_train)"
   ]
  },
  {
   "cell_type": "code",
   "execution_count": 4,
   "id": "2c3edcbe",
   "metadata": {
    "scrolled": true
   },
   "outputs": [
    {
     "name": "stdout",
     "output_type": "stream",
     "text": [
      "The accuracy of the model on the training set is:  0.88133\n",
      "The accuracy of the model on the test set is:  0.87594\n"
     ]
    }
   ],
   "source": [
    "#Training accuracy\n",
    "train_pred = model.predict(X_train).tolist()\n",
    "train_pred = [0 if x<=0.5 else 1 for x in train_pred]\n",
    "accuracy_train = round(sum(train_pred == y_train) / len(train_pred), 5)\n",
    "\n",
    "#Test set accuracy\n",
    "predictions = model.predict(X_test).tolist()\n",
    "predictions = [0 if x <= 0.5 else 1 for x in predictions]\n",
    "\n",
    "accuracy_test = round(sum(predictions == y_test) / len(predictions), 5)\n",
    "\n",
    "print(\"The accuracy of the model on the training set is: \", accuracy_train)\n",
    "print(\"The accuracy of the model on the test set is: \", accuracy_test)\n",
    "\n",
    "indices = [index for index, value in enumerate(zip(predictions, y_test.tolist())) if value[0] != value[1]]\n",
    "shuffle(indices)"
   ]
  },
  {
   "cell_type": "markdown",
   "id": "0b732029",
   "metadata": {},
   "source": [
    "### Visualize Global Explanations: What the model learned overall from training data"
   ]
  },
  {
   "cell_type": "code",
   "execution_count": 5,
   "id": "c226b72f",
   "metadata": {},
   "outputs": [
    {
     "name": "stdout",
     "output_type": "stream",
     "text": [
      "     feature_name  importance\n",
      "0             Age         692\n",
      "1      Occupation         381\n",
      "2     CapitalLoss         318\n",
      "3    EducationNum         303\n",
      "4     CapitalGain         289\n",
      "5   MaritalStatus         254\n",
      "6       WorkClass         169\n",
      "7       Education         166\n",
      "8   NativeCountry         128\n",
      "9    HoursPerWeek         123\n",
      "10           Race          91\n",
      "11         Gender          86\n"
     ]
    }
   ],
   "source": [
    "# Global feature importance values\n",
    "importance_df = (\n",
    "    pd.DataFrame({\n",
    "        'feature_name': model.feature_name(),\n",
    "        'importance': model.feature_importance(),\n",
    "    })\n",
    "    .sort_values('importance', ascending=False)\n",
    "    .reset_index(drop=True)\n",
    ")\n",
    "print(importance_df)"
   ]
  },
  {
   "cell_type": "code",
   "execution_count": 6,
   "id": "e83fbcb5",
   "metadata": {},
   "outputs": [
    {
     "data": {
      "image/png": "[encoded data removed]",
      "text/plain": [
       "<Figure size 432x288 with 1 Axes>"
      ]
     },
     "metadata": {
      "needs_background": "light"
     },
     "output_type": "display_data"
    }
   ],
   "source": [
    "# Global feature importance chart\n",
    "ax = lgb.plot_importance(model, max_num_features=10)\n",
    "plt.show()"
   ]
  },
  {
   "cell_type": "markdown",
   "id": "4792507f",
   "metadata": {},
   "source": [
    "### Visualize Global Explanations for Specific Input Features: What the model learned about a feature from the training data"
   ]
  },
  {
   "cell_type": "code",
   "execution_count": 7,
   "id": "5f15b0aa",
   "metadata": {},
   "outputs": [
    {
     "data": {
      "text/plain": [
       "<sklearn.inspection._plot.partial_dependence.PartialDependenceDisplay at 0x7f8dea8a8e20>"
      ]
     },
     "execution_count": 7,
     "metadata": {},
     "output_type": "execute_result"
    },
    {
     "data": {
      "image/png": "[encoded data removed]",
      "text/plain": [
       "<Figure size 432x288 with 2 Axes>"
      ]
     },
     "metadata": {
      "needs_background": "light"
     },
     "output_type": "display_data"
    }
   ],
   "source": [
    "from sklearn.ensemble import GradientBoostingClassifier\n",
    "from sklearn.inspection import PartialDependenceDisplay\n",
    "\n",
    "clf = GradientBoostingClassifier(n_estimators=100, learning_rate=1.0,\n",
    "      max_depth=1, random_state=0).fit(X_df, y_df)\n",
    "features = [\"Age\"]\n",
    "PartialDependenceDisplay.from_estimator(clf, X_df, features)"
   ]
  },
  {
   "cell_type": "code",
   "execution_count": 9,
   "id": "3fe6b044",
   "metadata": {},
   "outputs": [
    {
     "data": {
      "text/plain": [
       "array([[-2.4344683 , -2.4344683 , -2.4344683 , -2.4344683 , -2.4344683 ,\n",
       "        -2.4344683 , -2.4344683 , -2.4344683 , -1.72478105, -1.72478105,\n",
       "        -1.72478105, -1.0774984 , -1.0774984 , -1.0774984 , -1.0774984 ,\n",
       "        -1.0774984 , -1.0774984 , -0.40344724, -0.40344724, -0.40344724,\n",
       "        -0.40344724, -0.40344724, -0.40344724, -0.40344724, -0.40344724,\n",
       "        -0.40344724, -0.40344724, -0.23671926, -0.23671926, -0.23671926,\n",
       "        -0.23671926, -0.23671926, -0.23671926, -0.23671926, -0.23671926,\n",
       "        -0.23671926, -0.23671926, -0.23671926, -0.23671926, -0.23671926,\n",
       "        -0.23671926, -0.23671926, -0.23671926, -0.23671926, -0.23671926,\n",
       "        -0.80773265, -0.80773265, -0.80773265, -0.80773265, -0.80773265,\n",
       "        -1.1295612 , -1.1295612 , -1.1295612 , -1.1295612 , -1.1295612 ,\n",
       "        -1.1295612 , -1.1295612 , -1.1295612 , -1.1295612 , -1.1295612 ,\n",
       "        -1.1295612 , -1.1295612 , -1.1295612 , -1.1295612 , -1.1295612 ,\n",
       "        -1.1295612 , -1.1295612 , -1.1295612 , -1.1295612 , -1.1295612 ,\n",
       "        -1.1295612 , -1.1295612 , -1.1295612 ]])"
      ]
     },
     "execution_count": 9,
     "metadata": {},
     "output_type": "execute_result"
    }
   ],
   "source": [
    "# The raw values can be found below\n",
    "from sklearn.inspection import partial_dependence\n",
    "\n",
    "results = partial_dependence(clf, X_df, [\"Age\"])\n",
    "\n",
    "# results[\"values\"]\n",
    "results[\"average\"]"
   ]
  },
  {
   "cell_type": "code",
   "execution_count": null,
   "id": "18a9a33f",
   "metadata": {},
   "outputs": [],
   "source": []
  }
 ],
 "metadata": {
  "kernelspec": {
   "display_name": "Python 3 (ipykernel)",
   "language": "python",
   "name": "python3"
  },
  "language_info": {
   "codemirror_mode": {
    "name": "ipython",
    "version": 3
   },
   "file_extension": ".py",
   "mimetype": "text/x-python",
   "name": "python",
   "nbconvert_exporter": "python",
   "pygments_lexer": "ipython3",
   "version": "3.8.12"
  }
 },
 "nbformat": 4,
 "nbformat_minor": 5
}
