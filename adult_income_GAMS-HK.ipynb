{
 "cells": [
  {
   "cell_type": "code",
   "execution_count": 3,
   "id": "ee6539dd",
   "metadata": {},
   "outputs": [],
   "source": [
    "# libraries\n",
    "import csv\n",
    "import pandas as pd\n",
    "import numpy as np\n",
    "from random import shuffle\n",
    "from matplotlib import pyplot as plt\n",
    "from sklearn.model_selection import train_test_split"
   ]
  },
  {
   "cell_type": "markdown",
   "id": "5dd602a0",
   "metadata": {},
   "source": [
    "## 1. The Dataset: Adult Income"
   ]
  },
  {
   "cell_type": "markdown",
   "id": "062ea5f7",
   "metadata": {},
   "source": [
    "#### The Adult Income dataset is a classification dataset: it is used for a prediction task where the goal is to determine whether a person makes over 50k a year. The list of attributes is as follows:\n",
    "- output variable: **Income**, <=50k and >50k (converted to 0 and 1 respectively)\n",
    "- input features: \n",
    "    - **Age**: a continuous number\n",
    "    - **WorkClass**: a categorical variable that represents different work sectors, including values such as Federal employee, Private, Self-emp-not-inc, Self-emp-inc, Federal-gov, Local-gov, State-gov, Without-pay, Never-worked, Federal worker\n",
    "    - **Education**: a categorical variable that represents the level of education, including values such as Bachelors, Some-college, 11th, HS-grad, Prof-school, Assoc-acdm, Assoc-voc, 9th, 7th-8th, 12th, Masters, 1st-4th, 10th, Doctorate, 5th-6th, Preschool\n",
    "    - **MaritalStatus**: a categorical variable with values Married-civ-spouse (Married to a civilian spouse), Divorced, Never-married, Separated, Widowed, Married-spouse-absent, Married-AF-spouse (Married to someone in the Armed Forces) \n",
    "    - **Occupation**: a categorical variable with values Tech-support, Craft-repair, Other-service, Sales, Exec-managerial, Prof-specialty, Handlers-cleaners, Machine-op-inspct, Adm-clerical, Farming-fishing, Transport-moving, Priv-house-serv, Protective-serv, Armed-Forces\n",
    "    - **EducationNum**: a continuous value that represents the level of education (0 = Preschool, 16 = Doctorate)\n",
    "    - **Race**: a categorical variable with values White, Asian-Pac-Islander, Amer-Indian-Eskimo, Other, Black \n",
    "    - **Gender**: a binary variable, includes Female and Male\n",
    "    - **CapitalGain**: a continuous number\n",
    "    - **CapitalLoss**: a continuous number\n",
    "    - **HoursPerWeek**: a categorical variable including hour ranges of 0-30, 30-60, 60-90, 90+\n",
    "    - **NativeCountry**: a categorical variable including countries such as United-States, Cambodia, England, Puerto-Rico, Canada, Germany, Outlying-US(Guam-USVI-etc), India, Japan, Greece, South, China, Cuba, Iran, Honduras, Philippines, Italy, Poland, Jamaica, Vietnam, Mexico, Portugal, Ireland, France, Dominican-Republic, Laos, Ecuador, Taiwan, Haiti, Columbia, Hungary, Guatemala, Nicaragua, Scotland, Thailand, Yugoslavia, El-Salvador, Trinadad&Tobago, Peru, Hong, Holand-Netherlands"
   ]
  },
  {
   "cell_type": "code",
   "execution_count": 10,
   "id": "c04f01f4",
   "metadata": {
    "scrolled": true
   },
   "outputs": [
    {
     "data": {
      "text/html": [
       "<div>\n",
       "<style scoped>\n",
       "    .dataframe tbody tr th:only-of-type {\n",
       "        vertical-align: middle;\n",
       "    }\n",
       "\n",
       "    .dataframe tbody tr th {\n",
       "        vertical-align: top;\n",
       "    }\n",
       "\n",
       "    .dataframe thead th {\n",
       "        text-align: right;\n",
       "    }\n",
       "</style>\n",
       "<table border=\"1\" class=\"dataframe\">\n",
       "  <thead>\n",
       "    <tr style=\"text-align: right;\">\n",
       "      <th></th>\n",
       "      <th>Age</th>\n",
       "      <th>WorkClass</th>\n",
       "      <th>Education</th>\n",
       "      <th>Education-Num</th>\n",
       "      <th>Marital-Status</th>\n",
       "      <th>Occupation</th>\n",
       "      <th>Race</th>\n",
       "      <th>Gender</th>\n",
       "      <th>Capital-Gain</th>\n",
       "      <th>Capital-Loss</th>\n",
       "      <th>Hours-per-week</th>\n",
       "      <th>NativeCountry</th>\n",
       "      <th>Income</th>\n",
       "    </tr>\n",
       "  </thead>\n",
       "  <tbody>\n",
       "    <tr>\n",
       "      <th>0</th>\n",
       "      <td>52</td>\n",
       "      <td>Self-emp-not-inc</td>\n",
       "      <td>HS-grad</td>\n",
       "      <td>9</td>\n",
       "      <td>Married-civ-spouse</td>\n",
       "      <td>Exec-managerial</td>\n",
       "      <td>White</td>\n",
       "      <td>Male</td>\n",
       "      <td>0</td>\n",
       "      <td>0</td>\n",
       "      <td>45</td>\n",
       "      <td>United-States</td>\n",
       "      <td>&gt;50K</td>\n",
       "    </tr>\n",
       "    <tr>\n",
       "      <th>1</th>\n",
       "      <td>31</td>\n",
       "      <td>Private</td>\n",
       "      <td>Masters</td>\n",
       "      <td>14</td>\n",
       "      <td>Never-married</td>\n",
       "      <td>Prof-specialty</td>\n",
       "      <td>White</td>\n",
       "      <td>Female</td>\n",
       "      <td>14084</td>\n",
       "      <td>0</td>\n",
       "      <td>50</td>\n",
       "      <td>United-States</td>\n",
       "      <td>&gt;50K</td>\n",
       "    </tr>\n",
       "    <tr>\n",
       "      <th>2</th>\n",
       "      <td>42</td>\n",
       "      <td>Private</td>\n",
       "      <td>Bachelors</td>\n",
       "      <td>13</td>\n",
       "      <td>Married-civ-spouse</td>\n",
       "      <td>Exec-managerial</td>\n",
       "      <td>White</td>\n",
       "      <td>Male</td>\n",
       "      <td>5178</td>\n",
       "      <td>0</td>\n",
       "      <td>40</td>\n",
       "      <td>United-States</td>\n",
       "      <td>&gt;50K</td>\n",
       "    </tr>\n",
       "    <tr>\n",
       "      <th>3</th>\n",
       "      <td>37</td>\n",
       "      <td>Private</td>\n",
       "      <td>Some-college</td>\n",
       "      <td>10</td>\n",
       "      <td>Married-civ-spouse</td>\n",
       "      <td>Exec-managerial</td>\n",
       "      <td>Black</td>\n",
       "      <td>Male</td>\n",
       "      <td>0</td>\n",
       "      <td>0</td>\n",
       "      <td>80</td>\n",
       "      <td>United-States</td>\n",
       "      <td>&gt;50K</td>\n",
       "    </tr>\n",
       "    <tr>\n",
       "      <th>4</th>\n",
       "      <td>30</td>\n",
       "      <td>State-gov</td>\n",
       "      <td>Bachelors</td>\n",
       "      <td>13</td>\n",
       "      <td>Married-civ-spouse</td>\n",
       "      <td>Prof-specialty</td>\n",
       "      <td>Asian-Pac-Islander</td>\n",
       "      <td>Male</td>\n",
       "      <td>0</td>\n",
       "      <td>0</td>\n",
       "      <td>40</td>\n",
       "      <td>India</td>\n",
       "      <td>&gt;50K</td>\n",
       "    </tr>\n",
       "  </tbody>\n",
       "</table>\n",
       "</div>"
      ],
      "text/plain": [
       "   Age         WorkClass     Education  Education-Num      Marital-Status  \\\n",
       "0   52  Self-emp-not-inc       HS-grad              9  Married-civ-spouse   \n",
       "1   31           Private       Masters             14       Never-married   \n",
       "2   42           Private     Bachelors             13  Married-civ-spouse   \n",
       "3   37           Private  Some-college             10  Married-civ-spouse   \n",
       "4   30         State-gov     Bachelors             13  Married-civ-spouse   \n",
       "\n",
       "        Occupation                Race  Gender  Capital-Gain  Capital-Loss  \\\n",
       "0  Exec-managerial               White    Male             0             0   \n",
       "1   Prof-specialty               White  Female         14084             0   \n",
       "2  Exec-managerial               White    Male          5178             0   \n",
       "3  Exec-managerial               Black    Male             0             0   \n",
       "4   Prof-specialty  Asian-Pac-Islander    Male             0             0   \n",
       "\n",
       "   Hours-per-week  NativeCountry Income  \n",
       "0              45  United-States   >50K  \n",
       "1              50  United-States   >50K  \n",
       "2              40  United-States   >50K  \n",
       "3              80  United-States   >50K  \n",
       "4              40          India   >50K  "
      ]
     },
     "execution_count": 10,
     "metadata": {},
     "output_type": "execute_result"
    }
   ],
   "source": [
    "df = pd.read_csv(\"Data/income_training_updated.csv\")\n",
    "\n",
    "df.columns = [\n",
    "        \"Age\", \"WorkClass\", \"fnlwgt\", \"Education\", \"Education-Num\",\n",
    "        \"Marital-Status\", \"Occupation\", \"Relationship\", \"Race\", \"Gender\",\n",
    "        \"Capital-Gain\", \"Capital-Loss\", \"Hours-per-week\", \"NativeCountry\", \"Income\"]\n",
    "\n",
    "# Note for us: we removed relationship and fnlwgt variables because they didn't make sense to us, \n",
    "# so asking others to reason about them was not feasible\n",
    "cols = [\n",
    "        \"Age\", \"WorkClass\", \"Education\",\"Education-Num\", \"Marital-Status\", \"Occupation\", \"Race\", \"Gender\",\n",
    "        \"Capital-Gain\", \"Capital-Loss\", \"Hours-per-week\", \"NativeCountry\", \"Income\"]\n",
    "df = df[cols]\n",
    "\n",
    "train_cols = df.columns[0:-1]\n",
    "label = df.columns[-1]\n",
    "X_df = df[train_cols]\n",
    "y_df = df[label]\n",
    "\n",
    "\n",
    "#Converting the response / output variable to a binary class\n",
    "y_df = y_df.apply(lambda x: 0 if x == \"<=50K\" else 1)\n",
    "\n",
    "#Top 5 rows of the original dataset:\n",
    "df.head()"
   ]
  },
  {
   "cell_type": "code",
   "execution_count": 15,
   "id": "3a9880eb",
   "metadata": {},
   "outputs": [],
   "source": [
    "# Use this cell for any data-related exploration"
   ]
  },
  {
   "cell_type": "markdown",
   "id": "7f650173",
   "metadata": {},
   "source": [
    "## 2. The Model: GAMs"
   ]
  },
  {
   "cell_type": "code",
   "execution_count": 11,
   "id": "3f1be215",
   "metadata": {},
   "outputs": [
    {
     "data": {
      "text/html": [
       "<style>#sk-container-id-1 {color: black;background-color: white;}#sk-container-id-1 pre{padding: 0;}#sk-container-id-1 div.sk-toggleable {background-color: white;}#sk-container-id-1 label.sk-toggleable__label {cursor: pointer;display: block;width: 100%;margin-bottom: 0;padding: 0.3em;box-sizing: border-box;text-align: center;}#sk-container-id-1 label.sk-toggleable__label-arrow:before {content: \"▸\";float: left;margin-right: 0.25em;color: #696969;}#sk-container-id-1 label.sk-toggleable__label-arrow:hover:before {color: black;}#sk-container-id-1 div.sk-estimator:hover label.sk-toggleable__label-arrow:before {color: black;}#sk-container-id-1 div.sk-toggleable__content {max-height: 0;max-width: 0;overflow: hidden;text-align: left;background-color: #f0f8ff;}#sk-container-id-1 div.sk-toggleable__content pre {margin: 0.2em;color: black;border-radius: 0.25em;background-color: #f0f8ff;}#sk-container-id-1 input.sk-toggleable__control:checked~div.sk-toggleable__content {max-height: 200px;max-width: 100%;overflow: auto;}#sk-container-id-1 input.sk-toggleable__control:checked~label.sk-toggleable__label-arrow:before {content: \"▾\";}#sk-container-id-1 div.sk-estimator input.sk-toggleable__control:checked~label.sk-toggleable__label {background-color: #d4ebff;}#sk-container-id-1 div.sk-label input.sk-toggleable__control:checked~label.sk-toggleable__label {background-color: #d4ebff;}#sk-container-id-1 input.sk-hidden--visually {border: 0;clip: rect(1px 1px 1px 1px);clip: rect(1px, 1px, 1px, 1px);height: 1px;margin: -1px;overflow: hidden;padding: 0;position: absolute;width: 1px;}#sk-container-id-1 div.sk-estimator {font-family: monospace;background-color: #f0f8ff;border: 1px dotted black;border-radius: 0.25em;box-sizing: border-box;margin-bottom: 0.5em;}#sk-container-id-1 div.sk-estimator:hover {background-color: #d4ebff;}#sk-container-id-1 div.sk-parallel-item::after {content: \"\";width: 100%;border-bottom: 1px solid gray;flex-grow: 1;}#sk-container-id-1 div.sk-label:hover label.sk-toggleable__label {background-color: #d4ebff;}#sk-container-id-1 div.sk-serial::before {content: \"\";position: absolute;border-left: 1px solid gray;box-sizing: border-box;top: 0;bottom: 0;left: 50%;z-index: 0;}#sk-container-id-1 div.sk-serial {display: flex;flex-direction: column;align-items: center;background-color: white;padding-right: 0.2em;padding-left: 0.2em;position: relative;}#sk-container-id-1 div.sk-item {position: relative;z-index: 1;}#sk-container-id-1 div.sk-parallel {display: flex;align-items: stretch;justify-content: center;background-color: white;position: relative;}#sk-container-id-1 div.sk-item::before, #sk-container-id-1 div.sk-parallel-item::before {content: \"\";position: absolute;border-left: 1px solid gray;box-sizing: border-box;top: 0;bottom: 0;left: 50%;z-index: -1;}#sk-container-id-1 div.sk-parallel-item {display: flex;flex-direction: column;z-index: 1;position: relative;background-color: white;}#sk-container-id-1 div.sk-parallel-item:first-child::after {align-self: flex-end;width: 50%;}#sk-container-id-1 div.sk-parallel-item:last-child::after {align-self: flex-start;width: 50%;}#sk-container-id-1 div.sk-parallel-item:only-child::after {width: 0;}#sk-container-id-1 div.sk-dashed-wrapped {border: 1px dashed gray;margin: 0 0.4em 0.5em 0.4em;box-sizing: border-box;padding-bottom: 0.4em;background-color: white;}#sk-container-id-1 div.sk-label label {font-family: monospace;font-weight: bold;display: inline-block;line-height: 1.2em;}#sk-container-id-1 div.sk-label-container {text-align: center;}#sk-container-id-1 div.sk-container {/* jupyter's `normalize.less` sets `[hidden] { display: none; }` but bootstrap.min.css set `[hidden] { display: none !important; }` so we also need the `!important` here to be able to override the default hidden behavior on the sphinx rendered scikit-learn.org. See: https://github.com/scikit-learn/scikit-learn/issues/21755 */display: inline-block !important;position: relative;}#sk-container-id-1 div.sk-text-repr-fallback {display: none;}</style><div id=\"sk-container-id-1\" class=\"sk-top-container\"><div class=\"sk-text-repr-fallback\"><pre>ExplainableBoostingClassifier(feature_names=[&#x27;Age&#x27;, &#x27;WorkClass&#x27;, &#x27;Education&#x27;,\n",
       "                                             &#x27;Education-Num&#x27;, &#x27;Marital-Status&#x27;,\n",
       "                                             &#x27;Occupation&#x27;, &#x27;Race&#x27;, &#x27;Gender&#x27;,\n",
       "                                             &#x27;Capital-Gain&#x27;, &#x27;Capital-Loss&#x27;,\n",
       "                                             &#x27;Hours-per-week&#x27;, &#x27;NativeCountry&#x27;,\n",
       "                                             &#x27;Marital-Status x Gender&#x27;,\n",
       "                                             &#x27;Marital-Status x Hours-per-week&#x27;,\n",
       "                                             &#x27;WorkClass x Race&#x27;,\n",
       "                                             &#x27;Education-Num x Marital-Status&#x27;,\n",
       "                                             &#x27;Age x Hours-per-week&#x27;,\n",
       "                                             &#x27;Marital-Status x Occupatio...\n",
       "                                             &#x27;Age x Capital-Loss&#x27;,\n",
       "                                             &#x27;Age x WorkClass&#x27;],\n",
       "                              feature_types=[&#x27;continuous&#x27;, &#x27;categorical&#x27;,\n",
       "                                             &#x27;categorical&#x27;, &#x27;continuous&#x27;,\n",
       "                                             &#x27;categorical&#x27;, &#x27;categorical&#x27;,\n",
       "                                             &#x27;categorical&#x27;, &#x27;categorical&#x27;,\n",
       "                                             &#x27;continuous&#x27;, &#x27;continuous&#x27;,\n",
       "                                             &#x27;continuous&#x27;, &#x27;categorical&#x27;,\n",
       "                                             &#x27;interaction&#x27;, &#x27;interaction&#x27;,\n",
       "                                             &#x27;interaction&#x27;, &#x27;interaction&#x27;,\n",
       "                                             &#x27;interaction&#x27;, &#x27;interaction&#x27;,\n",
       "                                             &#x27;interaction&#x27;, &#x27;interaction&#x27;,\n",
       "                                             &#x27;interaction&#x27;, &#x27;interaction&#x27;])</pre><b>In a Jupyter environment, please rerun this cell to show the HTML representation or trust the notebook. <br />On GitHub, the HTML representation is unable to render, please try loading this page with nbviewer.org.</b></div><div class=\"sk-container\" hidden><div class=\"sk-item\"><div class=\"sk-estimator sk-toggleable\"><input class=\"sk-toggleable__control sk-hidden--visually\" id=\"sk-estimator-id-1\" type=\"checkbox\" checked><label for=\"sk-estimator-id-1\" class=\"sk-toggleable__label sk-toggleable__label-arrow\">ExplainableBoostingClassifier</label><div class=\"sk-toggleable__content\"><pre>ExplainableBoostingClassifier(feature_names=[&#x27;Age&#x27;, &#x27;WorkClass&#x27;, &#x27;Education&#x27;,\n",
       "                                             &#x27;Education-Num&#x27;, &#x27;Marital-Status&#x27;,\n",
       "                                             &#x27;Occupation&#x27;, &#x27;Race&#x27;, &#x27;Gender&#x27;,\n",
       "                                             &#x27;Capital-Gain&#x27;, &#x27;Capital-Loss&#x27;,\n",
       "                                             &#x27;Hours-per-week&#x27;, &#x27;NativeCountry&#x27;,\n",
       "                                             &#x27;Marital-Status x Gender&#x27;,\n",
       "                                             &#x27;Marital-Status x Hours-per-week&#x27;,\n",
       "                                             &#x27;WorkClass x Race&#x27;,\n",
       "                                             &#x27;Education-Num x Marital-Status&#x27;,\n",
       "                                             &#x27;Age x Hours-per-week&#x27;,\n",
       "                                             &#x27;Marital-Status x Occupatio...\n",
       "                                             &#x27;Age x Capital-Loss&#x27;,\n",
       "                                             &#x27;Age x WorkClass&#x27;],\n",
       "                              feature_types=[&#x27;continuous&#x27;, &#x27;categorical&#x27;,\n",
       "                                             &#x27;categorical&#x27;, &#x27;continuous&#x27;,\n",
       "                                             &#x27;categorical&#x27;, &#x27;categorical&#x27;,\n",
       "                                             &#x27;categorical&#x27;, &#x27;categorical&#x27;,\n",
       "                                             &#x27;continuous&#x27;, &#x27;continuous&#x27;,\n",
       "                                             &#x27;continuous&#x27;, &#x27;categorical&#x27;,\n",
       "                                             &#x27;interaction&#x27;, &#x27;interaction&#x27;,\n",
       "                                             &#x27;interaction&#x27;, &#x27;interaction&#x27;,\n",
       "                                             &#x27;interaction&#x27;, &#x27;interaction&#x27;,\n",
       "                                             &#x27;interaction&#x27;, &#x27;interaction&#x27;,\n",
       "                                             &#x27;interaction&#x27;, &#x27;interaction&#x27;])</pre></div></div></div></div></div>"
      ],
      "text/plain": [
       "ExplainableBoostingClassifier(feature_names=['Age', 'WorkClass', 'Education',\n",
       "                                             'Education-Num', 'Marital-Status',\n",
       "                                             'Occupation', 'Race', 'Gender',\n",
       "                                             'Capital-Gain', 'Capital-Loss',\n",
       "                                             'Hours-per-week', 'NativeCountry',\n",
       "                                             'Marital-Status x Gender',\n",
       "                                             'Marital-Status x Hours-per-week',\n",
       "                                             'WorkClass x Race',\n",
       "                                             'Education-Num x Marital-Status',\n",
       "                                             'Age x Hours-per-week',\n",
       "                                             'Marital-Status x Occupatio...\n",
       "                                             'Age x Capital-Loss',\n",
       "                                             'Age x WorkClass'],\n",
       "                              feature_types=['continuous', 'categorical',\n",
       "                                             'categorical', 'continuous',\n",
       "                                             'categorical', 'categorical',\n",
       "                                             'categorical', 'categorical',\n",
       "                                             'continuous', 'continuous',\n",
       "                                             'continuous', 'categorical',\n",
       "                                             'interaction', 'interaction',\n",
       "                                             'interaction', 'interaction',\n",
       "                                             'interaction', 'interaction',\n",
       "                                             'interaction', 'interaction',\n",
       "                                             'interaction', 'interaction'])"
      ]
     },
     "execution_count": 11,
     "metadata": {},
     "output_type": "execute_result"
    }
   ],
   "source": [
    "from interpret.glassbox import ExplainableBoostingClassifier\n",
    "from sklearn.model_selection import train_test_split\n",
    "\n",
    "# # create a train/test split\n",
    "# seed = 1\n",
    "# X_train, X_test, y_train, y_test = train_test_split(dataset['X'],dataset['y'], test_size=0.25, random_state=seed)\n",
    "\n",
    "# train a GAM for the training dataset\n",
    "ebm = ExplainableBoostingClassifier()\n",
    "\n",
    "ebm.fit(X_df, y_df)"
   ]
  },
  {
   "cell_type": "code",
   "execution_count": 13,
   "id": "1d39dc6c",
   "metadata": {},
   "outputs": [
    {
     "data": {
      "text/html": [
       "<div>\n",
       "<style scoped>\n",
       "    .dataframe tbody tr th:only-of-type {\n",
       "        vertical-align: middle;\n",
       "    }\n",
       "\n",
       "    .dataframe tbody tr th {\n",
       "        vertical-align: top;\n",
       "    }\n",
       "\n",
       "    .dataframe thead th {\n",
       "        text-align: right;\n",
       "    }\n",
       "</style>\n",
       "<table border=\"1\" class=\"dataframe\">\n",
       "  <thead>\n",
       "    <tr style=\"text-align: right;\">\n",
       "      <th></th>\n",
       "      <th>Age</th>\n",
       "      <th>WorkClass</th>\n",
       "      <th>Education</th>\n",
       "      <th>Education-Num</th>\n",
       "      <th>Marital-Status</th>\n",
       "      <th>Occupation</th>\n",
       "      <th>Race</th>\n",
       "      <th>Gender</th>\n",
       "      <th>Capital-Gain</th>\n",
       "      <th>Capital-Loss</th>\n",
       "      <th>Hours-per-week</th>\n",
       "      <th>NativeCountry</th>\n",
       "      <th>Income</th>\n",
       "    </tr>\n",
       "  </thead>\n",
       "  <tbody>\n",
       "    <tr>\n",
       "      <th>0</th>\n",
       "      <td>25</td>\n",
       "      <td>Private</td>\n",
       "      <td>11th</td>\n",
       "      <td>7</td>\n",
       "      <td>Never-married</td>\n",
       "      <td>Machine-op-inspct</td>\n",
       "      <td>Black</td>\n",
       "      <td>Male</td>\n",
       "      <td>0</td>\n",
       "      <td>0</td>\n",
       "      <td>40</td>\n",
       "      <td>United-States</td>\n",
       "      <td>&lt;=50K</td>\n",
       "    </tr>\n",
       "    <tr>\n",
       "      <th>1</th>\n",
       "      <td>38</td>\n",
       "      <td>Private</td>\n",
       "      <td>HS-grad</td>\n",
       "      <td>9</td>\n",
       "      <td>Married-civ-spouse</td>\n",
       "      <td>Farming-fishing</td>\n",
       "      <td>White</td>\n",
       "      <td>Male</td>\n",
       "      <td>0</td>\n",
       "      <td>0</td>\n",
       "      <td>50</td>\n",
       "      <td>United-States</td>\n",
       "      <td>&lt;=50K</td>\n",
       "    </tr>\n",
       "    <tr>\n",
       "      <th>2</th>\n",
       "      <td>28</td>\n",
       "      <td>Local-gov</td>\n",
       "      <td>Assoc-acdm</td>\n",
       "      <td>12</td>\n",
       "      <td>Married-civ-spouse</td>\n",
       "      <td>Protective-serv</td>\n",
       "      <td>White</td>\n",
       "      <td>Male</td>\n",
       "      <td>0</td>\n",
       "      <td>0</td>\n",
       "      <td>40</td>\n",
       "      <td>United-States</td>\n",
       "      <td>&gt;50K</td>\n",
       "    </tr>\n",
       "    <tr>\n",
       "      <th>3</th>\n",
       "      <td>44</td>\n",
       "      <td>Private</td>\n",
       "      <td>Some-college</td>\n",
       "      <td>10</td>\n",
       "      <td>Married-civ-spouse</td>\n",
       "      <td>Machine-op-inspct</td>\n",
       "      <td>Black</td>\n",
       "      <td>Male</td>\n",
       "      <td>7688</td>\n",
       "      <td>0</td>\n",
       "      <td>40</td>\n",
       "      <td>United-States</td>\n",
       "      <td>&gt;50K</td>\n",
       "    </tr>\n",
       "    <tr>\n",
       "      <th>4</th>\n",
       "      <td>18</td>\n",
       "      <td>?</td>\n",
       "      <td>Some-college</td>\n",
       "      <td>10</td>\n",
       "      <td>Never-married</td>\n",
       "      <td>?</td>\n",
       "      <td>White</td>\n",
       "      <td>Female</td>\n",
       "      <td>0</td>\n",
       "      <td>0</td>\n",
       "      <td>30</td>\n",
       "      <td>United-States</td>\n",
       "      <td>&lt;=50K</td>\n",
       "    </tr>\n",
       "  </tbody>\n",
       "</table>\n",
       "</div>"
      ],
      "text/plain": [
       "   Age  WorkClass     Education  Education-Num      Marital-Status  \\\n",
       "0   25    Private          11th              7       Never-married   \n",
       "1   38    Private       HS-grad              9  Married-civ-spouse   \n",
       "2   28  Local-gov    Assoc-acdm             12  Married-civ-spouse   \n",
       "3   44    Private  Some-college             10  Married-civ-spouse   \n",
       "4   18          ?  Some-college             10       Never-married   \n",
       "\n",
       "          Occupation   Race  Gender  Capital-Gain  Capital-Loss  \\\n",
       "0  Machine-op-inspct  Black    Male             0             0   \n",
       "1    Farming-fishing  White    Male             0             0   \n",
       "2    Protective-serv  White    Male             0             0   \n",
       "3  Machine-op-inspct  Black    Male          7688             0   \n",
       "4                  ?  White  Female             0             0   \n",
       "\n",
       "   Hours-per-week  NativeCountry Income  \n",
       "0              40  United-States  <=50K  \n",
       "1              50  United-States  <=50K  \n",
       "2              40  United-States   >50K  \n",
       "3              40  United-States   >50K  \n",
       "4              30  United-States  <=50K  "
      ]
     },
     "execution_count": 13,
     "metadata": {},
     "output_type": "execute_result"
    }
   ],
   "source": [
    "# Test set\n",
    "test_df = pd.read_csv(\"Data/income_test_orig.csv\")\n",
    "\n",
    "test_df.columns = [\n",
    "        \"Age\", \"WorkClass\", \"fnlwgt\", \"Education\", \"Education-Num\",\n",
    "        \"Marital-Status\", \"Occupation\", \"Relationship\", \"Race\", \"Gender\",\n",
    "        \"Capital-Gain\", \"Capital-Loss\", \"Hours-per-week\", \"NativeCountry\", \"Income\"]\n",
    "\n",
    "test_df = test_df[cols]\n",
    "\n",
    "input_cols = test_df.columns[0:-1]\n",
    "label = test_df.columns[-1]\n",
    "test_X_df = df[input_cols]\n",
    "test_y_df = df[label]\n",
    "\n",
    "\n",
    "#Converting the response / output variable to a binary class\n",
    "test_y_df = test_y_df.apply(lambda x: 0 if x == \"<=50K\" else 1)\n",
    "\n",
    "#Top 5 rows of the original dataset:\n",
    "test_df.head()"
   ]
  },
  {
   "cell_type": "code",
   "execution_count": 16,
   "id": "c757820d",
   "metadata": {},
   "outputs": [
    {
     "name": "stdout",
     "output_type": "stream",
     "text": [
      "The accuracy of the model on the training set is:  0.88013\n",
      "The accuracy of the model on the test set is:  0.88013\n"
     ]
    }
   ],
   "source": [
    "#Training accuracy\n",
    "train_pred = ebm.predict(X_df).tolist()\n",
    "train_pred = [0 if x<=0.5 else 1 for x in train_pred]\n",
    "accuracy_train = round(sum(train_pred == y_df) / len(train_pred), 5)\n",
    "\n",
    "#Test set accuracy\n",
    "predictions = ebm.predict(test_X_df).tolist()\n",
    "predictions = [0 if x <= 0.5 else 1 for x in predictions]\n",
    "\n",
    "accuracy_test = round(sum(predictions == test_y_df) / len(predictions), 5)\n",
    "\n",
    "print(\"The accuracy of the model on the training set is: \", accuracy_train)\n",
    "print(\"The accuracy of the model on the test set is: \", accuracy_test)\n",
    "\n",
    "#misclassified indices\n",
    "indices = [index for index, value in enumerate(zip(predictions, test_y_df.tolist())) if value[0] != value[1]]"
   ]
  },
  {
   "cell_type": "markdown",
   "id": "d8aca434",
   "metadata": {},
   "source": [
    "### Visualize Global Explanations: What the model learned overall from training data"
   ]
  },
  {
   "cell_type": "code",
   "execution_count": 17,
   "id": "6821de58",
   "metadata": {
    "scrolled": false
   },
   "outputs": [
    {
     "name": "stderr",
     "output_type": "stream",
     "text": [
      "/Library/Frameworks/Python.framework/Versions/3.10/lib/python3.10/site-packages/interpret/visual/udash.py:5: UserWarning: \n",
      "The dash_html_components package is deprecated. Please replace\n",
      "`import dash_html_components as html` with `from dash import html`\n",
      "  import dash_html_components as html\n",
      "/Library/Frameworks/Python.framework/Versions/3.10/lib/python3.10/site-packages/interpret/visual/udash.py:6: UserWarning: \n",
      "The dash_core_components package is deprecated. Please replace\n",
      "`import dash_core_components as dcc` with `from dash import dcc`\n",
      "  import dash_core_components as dcc\n",
      "/Library/Frameworks/Python.framework/Versions/3.10/lib/python3.10/site-packages/interpret/visual/udash.py:7: UserWarning: \n",
      "The dash_table package is deprecated. Please replace\n",
      "`import dash_table` with `from dash import dash_table`\n",
      "\n",
      "Also, if you're using any of the table format helpers (e.g. Group), replace \n",
      "`from dash_table.Format import Group` with \n",
      "`from dash.dash_table.Format import Group`\n",
      "  import dash_table as dt\n"
     ]
    },
    {
     "data": {
      "text/html": [
       "<!-- http://127.0.0.1:7001/4940235728/ -->\n",
       "<iframe src=\"http://127.0.0.1:7001/4940235728/\" width=100% height=800 frameBorder=\"0\"></iframe>"
      ]
     },
     "metadata": {},
     "output_type": "display_data"
    }
   ],
   "source": [
    "from interpret import show\n",
    "\n",
    "ebm_global = ebm.explain_global()\n",
    "show(ebm_global)"
   ]
  },
  {
   "cell_type": "markdown",
   "id": "d7ffa409",
   "metadata": {},
   "source": [
    "### Individual Predictions where Predicted and Actual values are both 0"
   ]
  },
  {
   "cell_type": "code",
   "execution_count": 67,
   "id": "648919f5",
   "metadata": {},
   "outputs": [
    {
     "data": {
      "text/plain": [
       "23410"
      ]
     },
     "execution_count": 67,
     "metadata": {},
     "output_type": "execute_result"
    }
   ],
   "source": [
    "pred_0 = [index for index, value in enumerate(zip(predictions, test_y_df.tolist())) if value[0] == 0 and value[1] == 0]"
   ]
  },
  {
   "cell_type": "code",
   "execution_count": 68,
   "id": "7db41391",
   "metadata": {},
   "outputs": [
    {
     "data": {
      "text/html": [
       "<!-- http://127.0.0.1:7001/4974149840/ -->\n",
       "<iframe src=\"http://127.0.0.1:7001/4974149840/\" width=100% height=800 frameBorder=\"0\"></iframe>"
      ]
     },
     "metadata": {},
     "output_type": "display_data"
    }
   ],
   "source": [
    "# To find a good what-if question\n",
    "ebm_local = ebm.explain_local(test_X_df.iloc[pred_0], test_y_df.iloc[pred_0], name = 'EBM')\n",
    "show(ebm_local)"
   ]
  },
  {
   "cell_type": "markdown",
   "id": "3cecc390",
   "metadata": {},
   "source": [
    "#### Local misclassification"
   ]
  },
  {
   "cell_type": "code",
   "execution_count": 28,
   "id": "1561fbca",
   "metadata": {
    "scrolled": false
   },
   "outputs": [
    {
     "data": {
      "text/html": [
       "<!-- http://127.0.0.1:7001/4877309584/ -->\n",
       "<iframe src=\"http://127.0.0.1:7001/4877309584/\" width=100% height=800 frameBorder=\"0\"></iframe>"
      ]
     },
     "metadata": {},
     "output_type": "display_data"
    }
   ],
   "source": [
    "ebm_local = ebm.explain_local(test_X_df.iloc[indices], test_y_df.iloc[indices], name = 'EBM')\n",
    "show(ebm_local)"
   ]
  },
  {
   "cell_type": "code",
   "execution_count": 22,
   "id": "f0ede7fa",
   "metadata": {},
   "outputs": [
    {
     "data": {
      "text/html": [
       "<!-- http://127.0.0.1:7001/4954273296/ -->\n",
       "<iframe src=\"http://127.0.0.1:7001/4954273296/\" width=100% height=800 frameBorder=\"0\"></iframe>"
      ]
     },
     "metadata": {},
     "output_type": "display_data"
    }
   ],
   "source": [
    "ebm_local = ebm.explain_local(test_X_df[7:8], test_y_df[7:8], name='EBM')\n",
    "show(ebm_local)"
   ]
  },
  {
   "cell_type": "code",
   "execution_count": 114,
   "id": "a5a09c50",
   "metadata": {},
   "outputs": [
    {
     "data": {
      "text/plain": [
       "Age                               30\n",
       "WorkClass                Federal-gov\n",
       "Education               Some-college\n",
       "Education-Num                     10\n",
       "Marital-Status    Married-civ-spouse\n",
       "Occupation              Adm-clerical\n",
       "Race                           White\n",
       "Gender                          Male\n",
       "Capital-Gain                       0\n",
       "Capital-Loss                       0\n",
       "Hours-per-week                    40\n",
       "NativeCountry          United-States\n",
       "Name: 7864, dtype: object"
      ]
     },
     "execution_count": 114,
     "metadata": {},
     "output_type": "execute_result"
    }
   ],
   "source": [
    "test_X_df.iloc[pred_0[21]]"
   ]
  },
  {
   "cell_type": "code",
   "execution_count": 115,
   "id": "c24dd879",
   "metadata": {},
   "outputs": [
    {
     "data": {
      "text/html": [
       "<!-- http://127.0.0.1:7001/5197566240/ -->\n",
       "<iframe src=\"http://127.0.0.1:7001/5197566240/\" width=100% height=800 frameBorder=\"0\"></iframe>"
      ]
     },
     "metadata": {},
     "output_type": "display_data"
    }
   ],
   "source": [
    "#Original Datapoint\n",
    "index = pred_0[21]\n",
    "orig = ebm.explain_local(test_X_df[index:index+1], test_y_df[index:index+1], name='EBM')\n",
    "show(orig)"
   ]
  },
  {
   "cell_type": "code",
   "execution_count": 134,
   "id": "f81a1788",
   "metadata": {
    "scrolled": false
   },
   "outputs": [
    {
     "name": "stdout",
     "output_type": "stream",
     "text": [
      "[0]\n"
     ]
    },
    {
     "name": "stderr",
     "output_type": "stream",
     "text": [
      "/var/folders/59/pb9b7w0n5h57bfvlgd1p55_w0000gn/T/ipykernel_43384/2754290026.py:12: SettingWithCopyWarning:\n",
      "\n",
      "\n",
      "A value is trying to be set on a copy of a slice from a DataFrame\n",
      "\n",
      "See the caveats in the documentation: https://pandas.pydata.org/pandas-docs/stable/user_guide/indexing.html#returning-a-view-versus-a-copy\n",
      "\n"
     ]
    },
    {
     "data": {
      "text/html": [
       "<!-- http://127.0.0.1:7001/5202784512/ -->\n",
       "<iframe src=\"http://127.0.0.1:7001/5202784512/\" width=100% height=800 frameBorder=\"0\"></iframe>"
      ]
     },
     "metadata": {},
     "output_type": "display_data"
    }
   ],
   "source": [
    "# Updated datapoint\n",
    "test = test_X_df.iloc[index]\n",
    "test_y = test_y_df.iloc[index]\n",
    "# test[\"Marital-Status\"] = \"Married-civ-spouse\" \n",
    "# test[\"Capital-Gain\"] = 5000\n",
    "# test[\"Education\"] = \"Bachelors\" \n",
    "# test[\"Race\"] = \"White\" #PIb\n",
    "# test[\"Age\"] = 40\n",
    "# test[\"Capital-Loss\"] = 5000\n",
    "# test[\"Hours-per-week\"] = 55\n",
    "# test[\"WorkClass\"] = \"Private\"\n",
    "# test[\"Occupation\"] = \"Exec-managerial\"\n",
    "test = test.to_frame().T\n",
    "new_y = ebm.predict(test)\n",
    "print(new_y)\n",
    "new = ebm.explain_local(test, pd.Series(new_y), name='EBM')\n",
    "show(new)"
   ]
  },
  {
   "cell_type": "code",
   "execution_count": null,
   "id": "0691f75d",
   "metadata": {},
   "outputs": [],
   "source": []
  }
 ],
 "metadata": {
  "kernelspec": {
   "display_name": "Python 3 (ipykernel)",
   "language": "python",
   "name": "python3"
  },
  "language_info": {
   "codemirror_mode": {
    "name": "ipython",
    "version": 3
   },
   "file_extension": ".py",
   "mimetype": "text/x-python",
   "name": "python",
   "nbconvert_exporter": "python",
   "pygments_lexer": "ipython3",
   "version": "3.10.4"
  }
 },
 "nbformat": 4,
 "nbformat_minor": 5
}
