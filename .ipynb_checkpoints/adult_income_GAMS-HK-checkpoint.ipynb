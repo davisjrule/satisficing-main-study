{
 "cells": [
  {
   "cell_type": "code",
   "execution_count": 39,
   "id": "ee6539dd",
   "metadata": {},
   "outputs": [],
   "source": [
    "# libraries\n",
    "import csv\n",
    "import pandas as pd\n",
    "import numpy as np\n",
    "from random import shuffle\n",
    "from matplotlib import pyplot as plt\n",
    "from sklearn.model_selection import train_test_split"
   ]
  },
  {
   "cell_type": "markdown",
   "id": "5dd602a0",
   "metadata": {},
   "source": [
    "## 1. The Dataset: Adult Income"
   ]
  },
  {
   "cell_type": "markdown",
   "id": "062ea5f7",
   "metadata": {},
   "source": [
    "#### The Adult Income dataset is a classification dataset: it is used for a prediction task where the goal is to determine whether a person makes over 50k a year. The list of attributes is as follows:\n",
    "- output variable: **Income**, <=50k and >50k (converted to 0 and 1 respectively)\n",
    "- input features: \n",
    "    - **Age**: a continuous number\n",
    "    - **WorkClass**: a categorical variable that represents different work sectors, including values such as Federal employee, Private, Self-emp-not-inc, Self-emp-inc, Federal-gov, Local-gov, State-gov, Without-pay, Never-worked, Federal worker\n",
    "    - **Education**: a categorical variable that represents the level of education, including values such as Bachelors, Some-college, 11th, HS-grad, Prof-school, Assoc-acdm, Assoc-voc, 9th, 7th-8th, 12th, Masters, 1st-4th, 10th, Doctorate, 5th-6th, Preschool\n",
    "    - **MaritalStatus**: a categorical variable with values Married-civ-spouse (Married to a civilian spouse), Divorced, Never-married, Separated, Widowed, Married-spouse-absent, Married-AF-spouse (Married to someone in the Armed Forces) \n",
    "    - **Occupation**: a categorical variable with values Tech-support, Craft-repair, Other-service, Sales, Exec-managerial, Prof-specialty, Handlers-cleaners, Machine-op-inspct, Adm-clerical, Farming-fishing, Transport-moving, Priv-house-serv, Protective-serv, Armed-Forces\n",
    "    - **EducationNum**: a continuous value that represents the level of education (0 = Preschool, 16 = Doctorate)\n",
    "    - **Race**: a categorical variable with values White, Asian-Pac-Islander, Amer-Indian-Eskimo, Other, Black \n",
    "    - **Gender**: a binary variable, includes Female and Male\n",
    "    - **CapitalGain**: a continuous number\n",
    "    - **CapitalLoss**: a continuous number\n",
    "    - **HoursPerWeek**: a categorical variable including hour ranges of 0-30, 30-60, 60-90, 90+\n",
    "    - **NativeCountry**: a categorical variable including countries such as United-States, Cambodia, England, Puerto-Rico, Canada, Germany, Outlying-US(Guam-USVI-etc), India, Japan, Greece, South, China, Cuba, Iran, Honduras, Philippines, Italy, Poland, Jamaica, Vietnam, Mexico, Portugal, Ireland, France, Dominican-Republic, Laos, Ecuador, Taiwan, Haiti, Columbia, Hungary, Guatemala, Nicaragua, Scotland, Thailand, Yugoslavia, El-Salvador, Trinadad&Tobago, Peru, Hong, Holand-Netherlands"
   ]
  },
  {
   "cell_type": "code",
   "execution_count": 41,
   "id": "c04f01f4",
   "metadata": {
    "scrolled": true
   },
   "outputs": [
    {
     "data": {
      "text/html": [
       "<div>\n",
       "<style scoped>\n",
       "    .dataframe tbody tr th:only-of-type {\n",
       "        vertical-align: middle;\n",
       "    }\n",
       "\n",
       "    .dataframe tbody tr th {\n",
       "        vertical-align: top;\n",
       "    }\n",
       "\n",
       "    .dataframe thead th {\n",
       "        text-align: right;\n",
       "    }\n",
       "</style>\n",
       "<table border=\"1\" class=\"dataframe\">\n",
       "  <thead>\n",
       "    <tr style=\"text-align: right;\">\n",
       "      <th></th>\n",
       "      <th>Age</th>\n",
       "      <th>WorkClass</th>\n",
       "      <th>Education</th>\n",
       "      <th>Education-Num</th>\n",
       "      <th>Marital-Status</th>\n",
       "      <th>Occupation</th>\n",
       "      <th>Race</th>\n",
       "      <th>Gender</th>\n",
       "      <th>Capital-Gain</th>\n",
       "      <th>Capital-Loss</th>\n",
       "      <th>Hours-per-week</th>\n",
       "      <th>NativeCountry</th>\n",
       "      <th>Income</th>\n",
       "    </tr>\n",
       "  </thead>\n",
       "  <tbody>\n",
       "    <tr>\n",
       "      <th>0</th>\n",
       "      <td>29</td>\n",
       "      <td>State-gov</td>\n",
       "      <td>Masters</td>\n",
       "      <td>14</td>\n",
       "      <td>Married-civ-spouse</td>\n",
       "      <td>Prof-specialty</td>\n",
       "      <td>Asian-Pac-Islander</td>\n",
       "      <td>Male</td>\n",
       "      <td>0</td>\n",
       "      <td>0</td>\n",
       "      <td>20</td>\n",
       "      <td>Taiwan</td>\n",
       "      <td>&lt;=50K</td>\n",
       "    </tr>\n",
       "    <tr>\n",
       "      <th>1</th>\n",
       "      <td>54</td>\n",
       "      <td>Private</td>\n",
       "      <td>Some-college</td>\n",
       "      <td>10</td>\n",
       "      <td>Married-civ-spouse</td>\n",
       "      <td>Protective-serv</td>\n",
       "      <td>White</td>\n",
       "      <td>Male</td>\n",
       "      <td>0</td>\n",
       "      <td>0</td>\n",
       "      <td>40</td>\n",
       "      <td>United-States</td>\n",
       "      <td>&gt;50K</td>\n",
       "    </tr>\n",
       "    <tr>\n",
       "      <th>2</th>\n",
       "      <td>37</td>\n",
       "      <td>Private</td>\n",
       "      <td>HS-grad</td>\n",
       "      <td>9</td>\n",
       "      <td>Married-civ-spouse</td>\n",
       "      <td>Craft-repair</td>\n",
       "      <td>White</td>\n",
       "      <td>Male</td>\n",
       "      <td>0</td>\n",
       "      <td>0</td>\n",
       "      <td>46</td>\n",
       "      <td>United-States</td>\n",
       "      <td>&gt;50K</td>\n",
       "    </tr>\n",
       "    <tr>\n",
       "      <th>3</th>\n",
       "      <td>28</td>\n",
       "      <td>Private</td>\n",
       "      <td>Some-college</td>\n",
       "      <td>10</td>\n",
       "      <td>Married-civ-spouse</td>\n",
       "      <td>Adm-clerical</td>\n",
       "      <td>White</td>\n",
       "      <td>Female</td>\n",
       "      <td>0</td>\n",
       "      <td>0</td>\n",
       "      <td>15</td>\n",
       "      <td>United-States</td>\n",
       "      <td>&lt;=50K</td>\n",
       "    </tr>\n",
       "    <tr>\n",
       "      <th>4</th>\n",
       "      <td>18</td>\n",
       "      <td>Private</td>\n",
       "      <td>11th</td>\n",
       "      <td>7</td>\n",
       "      <td>Never-married</td>\n",
       "      <td>Other-service</td>\n",
       "      <td>Black</td>\n",
       "      <td>Male</td>\n",
       "      <td>0</td>\n",
       "      <td>0</td>\n",
       "      <td>20</td>\n",
       "      <td>United-States</td>\n",
       "      <td>&lt;=50K</td>\n",
       "    </tr>\n",
       "  </tbody>\n",
       "</table>\n",
       "</div>"
      ],
      "text/plain": [
       "   Age   WorkClass      Education  Education-Num       Marital-Status  \\\n",
       "0   29   State-gov        Masters             14   Married-civ-spouse   \n",
       "1   54     Private   Some-college             10   Married-civ-spouse   \n",
       "2   37     Private        HS-grad              9   Married-civ-spouse   \n",
       "3   28     Private   Some-college             10   Married-civ-spouse   \n",
       "4   18     Private           11th              7        Never-married   \n",
       "\n",
       "         Occupation                 Race   Gender  Capital-Gain  Capital-Loss  \\\n",
       "0    Prof-specialty   Asian-Pac-Islander     Male             0             0   \n",
       "1   Protective-serv                White     Male             0             0   \n",
       "2      Craft-repair                White     Male             0             0   \n",
       "3      Adm-clerical                White   Female             0             0   \n",
       "4     Other-service                Black     Male             0             0   \n",
       "\n",
       "   Hours-per-week   NativeCountry  Income  \n",
       "0              20          Taiwan   <=50K  \n",
       "1              40   United-States    >50K  \n",
       "2              46   United-States    >50K  \n",
       "3              15   United-States   <=50K  \n",
       "4              20   United-States   <=50K  "
      ]
     },
     "execution_count": 41,
     "metadata": {},
     "output_type": "execute_result"
    }
   ],
   "source": [
    "df = pd.read_csv(\"Data/adult-train.csv\")\n",
    "\n",
    "df.columns = [\n",
    "        \"Age\", \"WorkClass\", \"fnlwgt\", \"Education\", \"Education-Num\",\n",
    "        \"Marital-Status\", \"Occupation\", \"Relationship\", \"Race\", \"Gender\",\n",
    "        \"Capital-Gain\", \"Capital-Loss\", \"Hours-per-week\", \"NativeCountry\", \"Income\"]\n",
    "\n",
    "# Note for us: we removed relationship and fnlwgt variables because they didn't make sense to us, \n",
    "# so asking others to reason about them was not feasible\n",
    "cols = [\n",
    "        \"Age\", \"WorkClass\", \"Education\",\"Education-Num\", \"Marital-Status\", \"Occupation\", \"Race\", \"Gender\",\n",
    "        \"Capital-Gain\", \"Capital-Loss\", \"Hours-per-week\", \"NativeCountry\", \"Income\"]\n",
    "df = df[cols]\n",
    "\n",
    "train_cols = df.columns[0:-1]\n",
    "label = df.columns[-1]\n",
    "X_df = df[train_cols]\n",
    "y_df = df[label]\n",
    "\n",
    "\n",
    "#Converting the response / output variable to a binary class\n",
    "y_df = y_df.apply(lambda x: 0 if x == \" <=50K\" else 1)\n",
    "\n",
    "#Top 5 rows of the original dataset:\n",
    "df.head()"
   ]
  },
  {
   "cell_type": "code",
   "execution_count": 42,
   "id": "3a9880eb",
   "metadata": {},
   "outputs": [],
   "source": [
    "# Use this cell for any data-related exploration"
   ]
  },
  {
   "cell_type": "markdown",
   "id": "7f650173",
   "metadata": {},
   "source": [
    "## 2. The Model: GAMs"
   ]
  },
  {
   "cell_type": "code",
   "execution_count": 43,
   "id": "3f1be215",
   "metadata": {},
   "outputs": [
    {
     "data": {
      "text/plain": [
       "ExplainableBoostingClassifier(feature_names=['Age', 'WorkClass', 'Education',\n",
       "                                             'Education-Num', 'Marital-Status',\n",
       "                                             'Occupation', 'Race', 'Gender',\n",
       "                                             'Capital-Gain', 'Capital-Loss',\n",
       "                                             'Hours-per-week', 'NativeCountry',\n",
       "                                             'Marital-Status x Gender',\n",
       "                                             'Marital-Status x Hours-per-week',\n",
       "                                             'Age x Capital-Loss',\n",
       "                                             'Education-Num x Marital-Status',\n",
       "                                             'WorkClass x Race',\n",
       "                                             'Education-Num x Occupation',...\n",
       "                                             'WorkClass x Capital-Loss',\n",
       "                                             'Marital-Status x Occupation'],\n",
       "                              feature_types=['continuous', 'categorical',\n",
       "                                             'categorical', 'continuous',\n",
       "                                             'categorical', 'categorical',\n",
       "                                             'categorical', 'categorical',\n",
       "                                             'continuous', 'continuous',\n",
       "                                             'continuous', 'categorical',\n",
       "                                             'interaction', 'interaction',\n",
       "                                             'interaction', 'interaction',\n",
       "                                             'interaction', 'interaction',\n",
       "                                             'interaction', 'interaction',\n",
       "                                             'interaction', 'interaction'])"
      ]
     },
     "execution_count": 43,
     "metadata": {},
     "output_type": "execute_result"
    }
   ],
   "source": [
    "from interpret.glassbox import ExplainableBoostingClassifier\n",
    "from sklearn.model_selection import train_test_split\n",
    "\n",
    "# train a GAM for the training dataset\n",
    "ebm = ExplainableBoostingClassifier()\n",
    "\n",
    "ebm.fit(X_df, y_df)"
   ]
  },
  {
   "cell_type": "code",
   "execution_count": 45,
   "id": "1d39dc6c",
   "metadata": {},
   "outputs": [
    {
     "data": {
      "text/html": [
       "<div>\n",
       "<style scoped>\n",
       "    .dataframe tbody tr th:only-of-type {\n",
       "        vertical-align: middle;\n",
       "    }\n",
       "\n",
       "    .dataframe tbody tr th {\n",
       "        vertical-align: top;\n",
       "    }\n",
       "\n",
       "    .dataframe thead th {\n",
       "        text-align: right;\n",
       "    }\n",
       "</style>\n",
       "<table border=\"1\" class=\"dataframe\">\n",
       "  <thead>\n",
       "    <tr style=\"text-align: right;\">\n",
       "      <th></th>\n",
       "      <th>Age</th>\n",
       "      <th>WorkClass</th>\n",
       "      <th>Education</th>\n",
       "      <th>Education-Num</th>\n",
       "      <th>Marital-Status</th>\n",
       "      <th>Occupation</th>\n",
       "      <th>Race</th>\n",
       "      <th>Gender</th>\n",
       "      <th>Capital-Gain</th>\n",
       "      <th>Capital-Loss</th>\n",
       "      <th>Hours-per-week</th>\n",
       "      <th>NativeCountry</th>\n",
       "      <th>Income</th>\n",
       "    </tr>\n",
       "  </thead>\n",
       "  <tbody>\n",
       "    <tr>\n",
       "      <th>0</th>\n",
       "      <td>38</td>\n",
       "      <td>Private</td>\n",
       "      <td>HS-grad</td>\n",
       "      <td>9</td>\n",
       "      <td>Married-civ-spouse</td>\n",
       "      <td>Farming-fishing</td>\n",
       "      <td>White</td>\n",
       "      <td>Male</td>\n",
       "      <td>0</td>\n",
       "      <td>0</td>\n",
       "      <td>50</td>\n",
       "      <td>United-States</td>\n",
       "      <td>&lt;=50K</td>\n",
       "    </tr>\n",
       "    <tr>\n",
       "      <th>1</th>\n",
       "      <td>28</td>\n",
       "      <td>Local-gov</td>\n",
       "      <td>Assoc-acdm</td>\n",
       "      <td>12</td>\n",
       "      <td>Married-civ-spouse</td>\n",
       "      <td>Protective-serv</td>\n",
       "      <td>White</td>\n",
       "      <td>Male</td>\n",
       "      <td>0</td>\n",
       "      <td>0</td>\n",
       "      <td>40</td>\n",
       "      <td>United-States</td>\n",
       "      <td>&gt;50K</td>\n",
       "    </tr>\n",
       "    <tr>\n",
       "      <th>2</th>\n",
       "      <td>44</td>\n",
       "      <td>Private</td>\n",
       "      <td>Some-college</td>\n",
       "      <td>10</td>\n",
       "      <td>Married-civ-spouse</td>\n",
       "      <td>Machine-op-inspct</td>\n",
       "      <td>Black</td>\n",
       "      <td>Male</td>\n",
       "      <td>7688</td>\n",
       "      <td>0</td>\n",
       "      <td>40</td>\n",
       "      <td>United-States</td>\n",
       "      <td>&gt;50K</td>\n",
       "    </tr>\n",
       "    <tr>\n",
       "      <th>3</th>\n",
       "      <td>18</td>\n",
       "      <td>?</td>\n",
       "      <td>Some-college</td>\n",
       "      <td>10</td>\n",
       "      <td>Never-married</td>\n",
       "      <td>?</td>\n",
       "      <td>White</td>\n",
       "      <td>Female</td>\n",
       "      <td>0</td>\n",
       "      <td>0</td>\n",
       "      <td>30</td>\n",
       "      <td>United-States</td>\n",
       "      <td>&lt;=50K</td>\n",
       "    </tr>\n",
       "    <tr>\n",
       "      <th>4</th>\n",
       "      <td>34</td>\n",
       "      <td>Private</td>\n",
       "      <td>10th</td>\n",
       "      <td>6</td>\n",
       "      <td>Never-married</td>\n",
       "      <td>Other-service</td>\n",
       "      <td>White</td>\n",
       "      <td>Male</td>\n",
       "      <td>0</td>\n",
       "      <td>0</td>\n",
       "      <td>30</td>\n",
       "      <td>United-States</td>\n",
       "      <td>&lt;=50K</td>\n",
       "    </tr>\n",
       "  </tbody>\n",
       "</table>\n",
       "</div>"
      ],
      "text/plain": [
       "   Age   WorkClass      Education  Education-Num       Marital-Status  \\\n",
       "0   38     Private        HS-grad              9   Married-civ-spouse   \n",
       "1   28   Local-gov     Assoc-acdm             12   Married-civ-spouse   \n",
       "2   44     Private   Some-college             10   Married-civ-spouse   \n",
       "3   18           ?   Some-college             10        Never-married   \n",
       "4   34     Private           10th              6        Never-married   \n",
       "\n",
       "           Occupation    Race   Gender  Capital-Gain  Capital-Loss  \\\n",
       "0     Farming-fishing   White     Male             0             0   \n",
       "1     Protective-serv   White     Male             0             0   \n",
       "2   Machine-op-inspct   Black     Male          7688             0   \n",
       "3                   ?   White   Female             0             0   \n",
       "4       Other-service   White     Male             0             0   \n",
       "\n",
       "   Hours-per-week   NativeCountry Income  \n",
       "0              50   United-States  <=50K  \n",
       "1              40   United-States   >50K  \n",
       "2              40   United-States   >50K  \n",
       "3              30   United-States  <=50K  \n",
       "4              30   United-States  <=50K  "
      ]
     },
     "execution_count": 45,
     "metadata": {},
     "output_type": "execute_result"
    }
   ],
   "source": [
    "# Test set\n",
    "test_df = pd.read_csv(\"Data/adult-test.csv\")\n",
    "\n",
    "test_df.columns = [\n",
    "        \"Age\", \"WorkClass\", \"fnlwgt\", \"Education\", \"Education-Num\",\n",
    "        \"Marital-Status\", \"Occupation\", \"Relationship\", \"Race\", \"Gender\",\n",
    "        \"Capital-Gain\", \"Capital-Loss\", \"Hours-per-week\", \"NativeCountry\", \"Income\"]\n",
    "\n",
    "test_df = test_df[cols]\n",
    "\n",
    "input_cols = test_df.columns[0:-1]\n",
    "label = test_df.columns[-1]\n",
    "test_X_df = df[input_cols]\n",
    "test_y_df = df[label]\n",
    "\n",
    "\n",
    "#Converting the response / output variable to a binary class\n",
    "test_y_df = test_y_df.apply(lambda x: 0 if x == \" <=50K\" else 1)\n",
    "\n",
    "#Top 5 rows of the original dataset:\n",
    "test_df.head()"
   ]
  },
  {
   "cell_type": "code",
   "execution_count": 46,
   "id": "c757820d",
   "metadata": {},
   "outputs": [
    {
     "name": "stdout",
     "output_type": "stream",
     "text": [
      "The accuracy of the model on the training set is:  0.88001\n",
      "The accuracy of the model on the test set is:  0.88001\n"
     ]
    }
   ],
   "source": [
    "#Training accuracy\n",
    "train_pred = ebm.predict(X_df).tolist()\n",
    "train_pred = [0 if x<=0.5 else 1 for x in train_pred]\n",
    "accuracy_train = round(sum(train_pred == y_df) / len(train_pred), 5)\n",
    "\n",
    "#Test set accuracy\n",
    "predictions = ebm.predict(test_X_df).tolist()\n",
    "predictions = [0 if x <= 0.5 else 1 for x in predictions]\n",
    "\n",
    "accuracy_test = round(sum(predictions == test_y_df) / len(predictions), 5)\n",
    "\n",
    "print(\"The accuracy of the model on the training set is: \", accuracy_train)\n",
    "print(\"The accuracy of the model on the test set is: \", accuracy_test)\n",
    "\n",
    "#misclassified indices\n",
    "indices = [index for index, value in enumerate(zip(predictions, test_y_df.tolist())) if value[0] != value[1]]"
   ]
  },
  {
   "cell_type": "markdown",
   "id": "d8aca434",
   "metadata": {},
   "source": [
    "### Global feature importance plot and individual feature partial dependence plots (PDP)"
   ]
  },
  {
   "cell_type": "code",
   "execution_count": 47,
   "id": "6821de58",
   "metadata": {
    "scrolled": false
   },
   "outputs": [
    {
     "data": {
      "text/html": [
       "<!-- http://127.0.0.1:7821/140613909101920/ -->\n",
       "<iframe src=\"http://127.0.0.1:7821/140613909101920/\" width=100% height=800 frameBorder=\"0\"></iframe>"
      ]
     },
     "metadata": {},
     "output_type": "display_data"
    }
   ],
   "source": [
    "from interpret import show\n",
    "\n",
    "ebm_global = ebm.explain_global()\n",
    "show(ebm_global)"
   ]
  },
  {
   "cell_type": "markdown",
   "id": "d7ffa409",
   "metadata": {},
   "source": [
    "### Individual Predictions where Predicted and Actual values are both 0"
   ]
  },
  {
   "cell_type": "code",
   "execution_count": 48,
   "id": "648919f5",
   "metadata": {},
   "outputs": [],
   "source": [
    "pred_0 = [index for index, value in enumerate(zip(predictions, test_y_df.tolist())) if value[0] == 0 and value[1] == 0]"
   ]
  },
  {
   "cell_type": "code",
   "execution_count": 49,
   "id": "7db41391",
   "metadata": {
    "scrolled": true
   },
   "outputs": [
    {
     "data": {
      "text/html": [
       "<!-- http://127.0.0.1:7821/140614295333664/ -->\n",
       "<iframe src=\"http://127.0.0.1:7821/140614295333664/\" width=100% height=800 frameBorder=\"0\"></iframe>"
      ]
     },
     "metadata": {},
     "output_type": "display_data"
    }
   ],
   "source": [
    "# To find a good what-if question\n",
    "ebm_local = ebm.explain_local(test_X_df.iloc[pred_0], test_y_df.iloc[pred_0], name = 'EBM')\n",
    "show(ebm_local)"
   ]
  },
  {
   "cell_type": "markdown",
   "id": "3cecc390",
   "metadata": {},
   "source": [
    "#### Local misclassification"
   ]
  },
  {
   "cell_type": "code",
   "execution_count": 50,
   "id": "1561fbca",
   "metadata": {
    "scrolled": false
   },
   "outputs": [
    {
     "data": {
      "text/html": [
       "<!-- http://127.0.0.1:7821/140613613840224/ -->\n",
       "<iframe src=\"http://127.0.0.1:7821/140613613840224/\" width=100% height=800 frameBorder=\"0\"></iframe>"
      ]
     },
     "metadata": {},
     "output_type": "display_data"
    }
   ],
   "source": [
    "ebm_local = ebm.explain_local(test_X_df.iloc[indices], test_y_df.iloc[indices], name = 'EBM')\n",
    "show(ebm_local)"
   ]
  },
  {
   "cell_type": "code",
   "execution_count": 51,
   "id": "f0ede7fa",
   "metadata": {},
   "outputs": [
    {
     "data": {
      "text/html": [
       "<!-- http://127.0.0.1:7821/140614288611936/ -->\n",
       "<iframe src=\"http://127.0.0.1:7821/140614288611936/\" width=100% height=800 frameBorder=\"0\"></iframe>"
      ]
     },
     "metadata": {},
     "output_type": "display_data"
    }
   ],
   "source": [
    "ebm_local = ebm.explain_local(test_X_df[7:8], test_y_df[7:8], name='EBM')\n",
    "show(ebm_local)"
   ]
  },
  {
   "cell_type": "code",
   "execution_count": 52,
   "id": "a5a09c50",
   "metadata": {},
   "outputs": [
    {
     "data": {
      "text/plain": [
       "Age                                51\n",
       "WorkClass                     Private\n",
       "Education                     HS-grad\n",
       "Education-Num                       9\n",
       "Marital-Status     Married-civ-spouse\n",
       "Occupation               Adm-clerical\n",
       "Race                            White\n",
       "Gender                         Female\n",
       "Capital-Gain                        0\n",
       "Capital-Loss                        0\n",
       "Hours-per-week                     40\n",
       "NativeCountry           United-States\n",
       "Name: 31, dtype: object"
      ]
     },
     "execution_count": 52,
     "metadata": {},
     "output_type": "execute_result"
    }
   ],
   "source": [
    "test_X_df.iloc[pred_0[21]]"
   ]
  },
  {
   "cell_type": "code",
   "execution_count": 53,
   "id": "c24dd879",
   "metadata": {},
   "outputs": [
    {
     "data": {
      "text/html": [
       "<!-- http://127.0.0.1:7821/140613597431264/ -->\n",
       "<iframe src=\"http://127.0.0.1:7821/140613597431264/\" width=100% height=800 frameBorder=\"0\"></iframe>"
      ]
     },
     "metadata": {},
     "output_type": "display_data"
    }
   ],
   "source": [
    "#Original Datapoint\n",
    "index = pred_0[21]\n",
    "orig = ebm.explain_local(test_X_df[index:index+1], test_y_df[index:index+1], name='EBM')\n",
    "show(orig)"
   ]
  },
  {
   "cell_type": "code",
   "execution_count": 54,
   "id": "f81a1788",
   "metadata": {
    "scrolled": false
   },
   "outputs": [
    {
     "name": "stdout",
     "output_type": "stream",
     "text": [
      "[0]\n"
     ]
    },
    {
     "data": {
      "text/html": [
       "<!-- http://127.0.0.1:7821/140614227674544/ -->\n",
       "<iframe src=\"http://127.0.0.1:7821/140614227674544/\" width=100% height=800 frameBorder=\"0\"></iframe>"
      ]
     },
     "metadata": {},
     "output_type": "display_data"
    }
   ],
   "source": [
    "# Updated datapoint\n",
    "test = test_X_df.iloc[index]\n",
    "test_y = test_y_df.iloc[index]\n",
    "# test[\"Marital-Status\"] = \"Married-civ-spouse\" \n",
    "# test[\"Capital-Gain\"] = 5000\n",
    "# test[\"Education\"] = \"Bachelors\" \n",
    "# test[\"Race\"] = \"White\" #PIb\n",
    "# test[\"Age\"] = 40\n",
    "# test[\"Capital-Loss\"] = 5000\n",
    "# test[\"Hours-per-week\"] = 55\n",
    "# test[\"WorkClass\"] = \"Private\"\n",
    "# test[\"Occupation\"] = \"Exec-managerial\"\n",
    "test = test.to_frame().T\n",
    "new_y = ebm.predict(test)\n",
    "print(new_y)\n",
    "new = ebm.explain_local(test, pd.Series(new_y), name='EBM')\n",
    "show(new)"
   ]
  },
  {
   "cell_type": "code",
   "execution_count": null,
   "id": "0691f75d",
   "metadata": {},
   "outputs": [],
   "source": []
  },
  {
   "cell_type": "code",
   "execution_count": null,
   "id": "35063061",
   "metadata": {},
   "outputs": [],
   "source": []
  }
 ],
 "metadata": {
  "kernelspec": {
   "display_name": "Python 3 (ipykernel)",
   "language": "python",
   "name": "python3"
  },
  "language_info": {
   "codemirror_mode": {
    "name": "ipython",
    "version": 3
   },
   "file_extension": ".py",
   "mimetype": "text/x-python",
   "name": "python",
   "nbconvert_exporter": "python",
   "pygments_lexer": "ipython3",
   "version": "3.8.12"
  }
 },
 "nbformat": 4,
 "nbformat_minor": 5
}
