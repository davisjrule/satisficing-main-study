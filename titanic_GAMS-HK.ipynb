{
 "cells": [
  {
   "cell_type": "code",
   "execution_count": 1,
   "id": "6ca9bda2",
   "metadata": {},
   "outputs": [],
   "source": [
    "# libraries\n",
    "import csv\n",
    "import pandas as pd\n",
    "import numpy as np\n",
    "from matplotlib import pyplot as plt\n",
    "from sklearn.model_selection import train_test_split"
   ]
  },
  {
   "cell_type": "markdown",
   "id": "c2588c51",
   "metadata": {},
   "source": [
    "## 1. The Dataset: Titanic data"
   ]
  },
  {
   "cell_type": "markdown",
   "id": "386a65a4",
   "metadata": {},
   "source": [
    "#### The Titanic dataset is a classification dataset: it is used for a prediction task where the goal is to determine whether a person survived the 1912 shipwreck of the RMS Titanic. The list of attributes is as follows:\n",
    "\n",
    "- output variable: **Survival**, 0 = did not survive, 1 = did survive\n",
    "- input features:\n",
    "    - **Pclass**: ticket class (1 = 1st, 2 = 2nd, 3 = 3rd)\n",
    "    - **Sex**: male or female\n",
    "    - **Age**: quantitative continuous variable\n",
    "    - **Sibsp**: # of siblings / spouses aboard the Titanic\n",
    "    - **Parch**: # of parents / children aboard the Titanic\t\n",
    "    - **TotalFamily**: # of total family members (including self) on the trip\n",
    "    - **Ticket**: ticket number\n",
    "    - **Fare**: passenger fare\n",
    "    - **Cabin**: cabin number\n",
    "    - **Embarked**: port of embarkation (C = Cherbourg, Q = Queenstown, S = Southampton)"
   ]
  },
  {
   "cell_type": "code",
   "execution_count": 2,
   "id": "38f9c63f",
   "metadata": {},
   "outputs": [
    {
     "data": {
      "text/html": [
       "<div>\n",
       "<style scoped>\n",
       "    .dataframe tbody tr th:only-of-type {\n",
       "        vertical-align: middle;\n",
       "    }\n",
       "\n",
       "    .dataframe tbody tr th {\n",
       "        vertical-align: top;\n",
       "    }\n",
       "\n",
       "    .dataframe thead th {\n",
       "        text-align: right;\n",
       "    }\n",
       "</style>\n",
       "<table border=\"1\" class=\"dataframe\">\n",
       "  <thead>\n",
       "    <tr style=\"text-align: right;\">\n",
       "      <th></th>\n",
       "      <th>PassengerId</th>\n",
       "      <th>Survived</th>\n",
       "      <th>Pclass</th>\n",
       "      <th>Name</th>\n",
       "      <th>Sex</th>\n",
       "      <th>Age</th>\n",
       "      <th>SibSp</th>\n",
       "      <th>Parch</th>\n",
       "      <th>TotalFamily</th>\n",
       "      <th>Ticket</th>\n",
       "      <th>Fare</th>\n",
       "      <th>Cabin</th>\n",
       "      <th>Embarked</th>\n",
       "    </tr>\n",
       "  </thead>\n",
       "  <tbody>\n",
       "    <tr>\n",
       "      <th>0</th>\n",
       "      <td>673</td>\n",
       "      <td>0</td>\n",
       "      <td>2</td>\n",
       "      <td>Mitchell, Mr. Henry Michael</td>\n",
       "      <td>male</td>\n",
       "      <td>70.0</td>\n",
       "      <td>0</td>\n",
       "      <td>0</td>\n",
       "      <td>1</td>\n",
       "      <td>C.A. 24580</td>\n",
       "      <td>10.5000</td>\n",
       "      <td>Unknown</td>\n",
       "      <td>S</td>\n",
       "    </tr>\n",
       "    <tr>\n",
       "      <th>1</th>\n",
       "      <td>733</td>\n",
       "      <td>0</td>\n",
       "      <td>2</td>\n",
       "      <td>Knight, Mr. Robert J</td>\n",
       "      <td>male</td>\n",
       "      <td>30.0</td>\n",
       "      <td>0</td>\n",
       "      <td>0</td>\n",
       "      <td>1</td>\n",
       "      <td>239855</td>\n",
       "      <td>0.0000</td>\n",
       "      <td>Unknown</td>\n",
       "      <td>S</td>\n",
       "    </tr>\n",
       "    <tr>\n",
       "      <th>2</th>\n",
       "      <td>700</td>\n",
       "      <td>0</td>\n",
       "      <td>3</td>\n",
       "      <td>Humblen, Mr. Adolf Mathias Nicolai Olsen</td>\n",
       "      <td>male</td>\n",
       "      <td>42.0</td>\n",
       "      <td>0</td>\n",
       "      <td>0</td>\n",
       "      <td>1</td>\n",
       "      <td>348121</td>\n",
       "      <td>7.6500</td>\n",
       "      <td>F G63</td>\n",
       "      <td>S</td>\n",
       "    </tr>\n",
       "    <tr>\n",
       "      <th>3</th>\n",
       "      <td>728</td>\n",
       "      <td>1</td>\n",
       "      <td>3</td>\n",
       "      <td>Mannion, Miss. Margareth</td>\n",
       "      <td>female</td>\n",
       "      <td>30.0</td>\n",
       "      <td>0</td>\n",
       "      <td>0</td>\n",
       "      <td>1</td>\n",
       "      <td>36866</td>\n",
       "      <td>7.7375</td>\n",
       "      <td>Unknown</td>\n",
       "      <td>Q</td>\n",
       "    </tr>\n",
       "    <tr>\n",
       "      <th>4</th>\n",
       "      <td>113</td>\n",
       "      <td>0</td>\n",
       "      <td>3</td>\n",
       "      <td>Barton, Mr. David John</td>\n",
       "      <td>male</td>\n",
       "      <td>22.0</td>\n",
       "      <td>0</td>\n",
       "      <td>0</td>\n",
       "      <td>1</td>\n",
       "      <td>324669</td>\n",
       "      <td>8.0500</td>\n",
       "      <td>Unknown</td>\n",
       "      <td>S</td>\n",
       "    </tr>\n",
       "  </tbody>\n",
       "</table>\n",
       "</div>"
      ],
      "text/plain": [
       "   PassengerId  Survived Pclass                                      Name  \\\n",
       "0          673         0      2               Mitchell, Mr. Henry Michael   \n",
       "1          733         0      2                      Knight, Mr. Robert J   \n",
       "2          700         0      3  Humblen, Mr. Adolf Mathias Nicolai Olsen   \n",
       "3          728         1      3                  Mannion, Miss. Margareth   \n",
       "4          113         0      3                    Barton, Mr. David John   \n",
       "\n",
       "      Sex   Age  SibSp  Parch  TotalFamily      Ticket     Fare    Cabin  \\\n",
       "0    male  70.0      0      0            1  C.A. 24580  10.5000  Unknown   \n",
       "1    male  30.0      0      0            1      239855   0.0000  Unknown   \n",
       "2    male  42.0      0      0            1      348121   7.6500    F G63   \n",
       "3  female  30.0      0      0            1       36866   7.7375  Unknown   \n",
       "4    male  22.0      0      0            1      324669   8.0500  Unknown   \n",
       "\n",
       "  Embarked  \n",
       "0        S  \n",
       "1        S  \n",
       "2        S  \n",
       "3        Q  \n",
       "4        S  "
      ]
     },
     "execution_count": 2,
     "metadata": {},
     "output_type": "execute_result"
    }
   ],
   "source": [
    "# Read in the training data\n",
    "df = pd.read_csv(\"Data/titanic_train.csv\")\n",
    "# df['Age'] = df['Age'].fillna(df['Age'].mean())\n",
    "df.fillna('', inplace=True)\n",
    "# df[\"Age\"] = df[\"Age\"].apply(lambda x: 0 if x == \"\" else x)\n",
    "df[\"Cabin\"] = df[\"Cabin\"].apply(lambda x: \"Unknown\" if x == \"\" else x)\n",
    "df[\"Embarked\"] = df[\"Embarked\"].apply(lambda x: \"Unknown\" if x == \"\" else x)\n",
    "df[\"Pclass\"] = df[\"Pclass\"].apply(lambda x: str(x))\n",
    "\n",
    "# train_cols = [df.columns[0]] + list(df.columns[2:])\n",
    "train_cols = ['PassengerId', 'Pclass', 'Name', 'Sex', 'Age', 'SibSp',\n",
    "       'Parch', 'TotalFamily', 'Ticket', 'Fare', 'Cabin']\n",
    "# label = df.columns[1]\n",
    "label = \"Survived\"\n",
    "X_df = df[train_cols]\n",
    "y_df = df[label]\n",
    "\n",
    "df.head()"
   ]
  },
  {
   "cell_type": "markdown",
   "id": "4fe04090",
   "metadata": {},
   "source": [
    "## 2. The Model: GAMs"
   ]
  },
  {
   "cell_type": "code",
   "execution_count": 3,
   "id": "7c564501",
   "metadata": {},
   "outputs": [
    {
     "data": {
      "text/plain": [
       "ExplainableBoostingClassifier(feature_names=['PassengerId', 'Pclass', 'Name',\n",
       "                                             'Sex', 'Age', 'SibSp', 'Parch',\n",
       "                                             'TotalFamily', 'Ticket', 'Fare',\n",
       "                                             'Cabin', 'Pclass x Sex',\n",
       "                                             'Sex x Age', 'Sex x Ticket',\n",
       "                                             'Sex x Fare', 'Name x Fare',\n",
       "                                             'Age x Ticket',\n",
       "                                             'PassengerId x Name',\n",
       "                                             'PassengerId x Sex', 'Age x SibSp',\n",
       "                                             'Age x TotalFamily'],\n",
       "                              feature_types=['continuous', 'categorical',\n",
       "                                             'categorical', 'categorical',\n",
       "                                             'continuous', 'continuous',\n",
       "                                             'continuous', 'continuous',\n",
       "                                             'categorical', 'continuous',\n",
       "                                             'categorical', 'interaction',\n",
       "                                             'interaction', 'interaction',\n",
       "                                             'interaction', 'interaction',\n",
       "                                             'interaction', 'interaction',\n",
       "                                             'interaction', 'interaction',\n",
       "                                             'interaction'])"
      ]
     },
     "execution_count": 3,
     "metadata": {},
     "output_type": "execute_result"
    }
   ],
   "source": [
    "from interpret.glassbox import ExplainableBoostingClassifier\n",
    "\n",
    "# train a GAM for the training dataset\n",
    "ebm = ExplainableBoostingClassifier()\n",
    "\n",
    "ebm.fit(X_df, y_df)"
   ]
  },
  {
   "cell_type": "code",
   "execution_count": 4,
   "id": "3054112c",
   "metadata": {},
   "outputs": [
    {
     "data": {
      "text/html": [
       "<div>\n",
       "<style scoped>\n",
       "    .dataframe tbody tr th:only-of-type {\n",
       "        vertical-align: middle;\n",
       "    }\n",
       "\n",
       "    .dataframe tbody tr th {\n",
       "        vertical-align: top;\n",
       "    }\n",
       "\n",
       "    .dataframe thead th {\n",
       "        text-align: right;\n",
       "    }\n",
       "</style>\n",
       "<table border=\"1\" class=\"dataframe\">\n",
       "  <thead>\n",
       "    <tr style=\"text-align: right;\">\n",
       "      <th></th>\n",
       "      <th>PassengerId</th>\n",
       "      <th>Pclass</th>\n",
       "      <th>Name</th>\n",
       "      <th>Sex</th>\n",
       "      <th>Age</th>\n",
       "      <th>SibSp</th>\n",
       "      <th>Parch</th>\n",
       "      <th>TotalFamily</th>\n",
       "      <th>Ticket</th>\n",
       "      <th>Fare</th>\n",
       "      <th>Cabin</th>\n",
       "    </tr>\n",
       "  </thead>\n",
       "  <tbody>\n",
       "    <tr>\n",
       "      <th>0</th>\n",
       "      <td>218</td>\n",
       "      <td>2</td>\n",
       "      <td>Jacobsohn, Mr. Sidney Samuel</td>\n",
       "      <td>male</td>\n",
       "      <td>42.0</td>\n",
       "      <td>1</td>\n",
       "      <td>0</td>\n",
       "      <td>2</td>\n",
       "      <td>243847</td>\n",
       "      <td>27.0000</td>\n",
       "      <td>Unknown</td>\n",
       "    </tr>\n",
       "    <tr>\n",
       "      <th>1</th>\n",
       "      <td>763</td>\n",
       "      <td>3</td>\n",
       "      <td>Barah, Mr. Hanna Assi</td>\n",
       "      <td>male</td>\n",
       "      <td>30.0</td>\n",
       "      <td>0</td>\n",
       "      <td>0</td>\n",
       "      <td>1</td>\n",
       "      <td>2663</td>\n",
       "      <td>7.2292</td>\n",
       "      <td>Unknown</td>\n",
       "    </tr>\n",
       "    <tr>\n",
       "      <th>2</th>\n",
       "      <td>282</td>\n",
       "      <td>3</td>\n",
       "      <td>Olsson, Mr. Nils Johan Goransson</td>\n",
       "      <td>male</td>\n",
       "      <td>28.0</td>\n",
       "      <td>0</td>\n",
       "      <td>0</td>\n",
       "      <td>1</td>\n",
       "      <td>347464</td>\n",
       "      <td>7.8542</td>\n",
       "      <td>Unknown</td>\n",
       "    </tr>\n",
       "    <tr>\n",
       "      <th>3</th>\n",
       "      <td>129</td>\n",
       "      <td>3</td>\n",
       "      <td>Peter, Miss. Anna</td>\n",
       "      <td>female</td>\n",
       "      <td>30.0</td>\n",
       "      <td>1</td>\n",
       "      <td>1</td>\n",
       "      <td>3</td>\n",
       "      <td>2668</td>\n",
       "      <td>22.3583</td>\n",
       "      <td>F E69</td>\n",
       "    </tr>\n",
       "    <tr>\n",
       "      <th>4</th>\n",
       "      <td>441</td>\n",
       "      <td>2</td>\n",
       "      <td>Hart, Mrs. Benjamin (Esther Ada Bloomfield)</td>\n",
       "      <td>female</td>\n",
       "      <td>30.0</td>\n",
       "      <td>1</td>\n",
       "      <td>1</td>\n",
       "      <td>3</td>\n",
       "      <td>F.C.C. 13529</td>\n",
       "      <td>26.2500</td>\n",
       "      <td>Unknown</td>\n",
       "    </tr>\n",
       "  </tbody>\n",
       "</table>\n",
       "</div>"
      ],
      "text/plain": [
       "   PassengerId Pclass                                         Name     Sex  \\\n",
       "0          218      2                 Jacobsohn, Mr. Sidney Samuel    male   \n",
       "1          763      3                        Barah, Mr. Hanna Assi    male   \n",
       "2          282      3             Olsson, Mr. Nils Johan Goransson    male   \n",
       "3          129      3                            Peter, Miss. Anna  female   \n",
       "4          441      2  Hart, Mrs. Benjamin (Esther Ada Bloomfield)  female   \n",
       "\n",
       "    Age  SibSp  Parch  TotalFamily        Ticket     Fare    Cabin  \n",
       "0  42.0      1      0            2        243847  27.0000  Unknown  \n",
       "1  30.0      0      0            1          2663   7.2292  Unknown  \n",
       "2  28.0      0      0            1        347464   7.8542  Unknown  \n",
       "3  30.0      1      1            3          2668  22.3583    F E69  \n",
       "4  30.0      1      1            3  F.C.C. 13529  26.2500  Unknown  "
      ]
     },
     "execution_count": 4,
     "metadata": {},
     "output_type": "execute_result"
    }
   ],
   "source": [
    "# Read in the test data\n",
    "test_df = pd.read_csv(\"Data/titanic_test.csv\")\n",
    "test_df.fillna('', inplace=True)\n",
    "test_df[\"Cabin\"] = test_df[\"Cabin\"].apply(lambda x: \"Unknown\" if x == \"\" else x)\n",
    "test_df[\"Embarked\"] = test_df[\"Embarked\"].apply(lambda x: \"Unknown\" if x == \"\" else x)\n",
    "test_df[\"Pclass\"] = test_df[\"Pclass\"].apply(lambda x: str(x))\n",
    "\n",
    "test_X_df = test_df[train_cols]\n",
    "test_y_df = test_df[label]\n",
    "\n",
    "test_X_df.head()"
   ]
  },
  {
   "cell_type": "code",
   "execution_count": 5,
   "id": "a8f43b42",
   "metadata": {},
   "outputs": [
    {
     "name": "stdout",
     "output_type": "stream",
     "text": [
      "The accuracy of the model on the training set is:  0.88955\n",
      "The accuracy of the model on the test set is:  0.82353\n"
     ]
    }
   ],
   "source": [
    "#Training accuracy\n",
    "train_pred = ebm.predict(X_df).tolist()\n",
    "train_pred = [0 if x<=0.5 else 1 for x in train_pred]\n",
    "accuracy_train = round(sum(train_pred == y_df) / len(train_pred), 5)\n",
    "\n",
    "#Test set accuracy\n",
    "predictions = ebm.predict(test_X_df).tolist()\n",
    "predictions = [0 if x <= 0.5 else 1 for x in predictions]\n",
    "\n",
    "accuracy_test = round(sum(predictions == test_y_df) / len(predictions), 5)\n",
    "\n",
    "print(\"The accuracy of the model on the training set is: \", accuracy_train)\n",
    "print(\"The accuracy of the model on the test set is: \", accuracy_test)\n",
    "\n",
    "indices = [index for index, value in enumerate(zip(predictions, test_y_df.tolist())) if value[0] != value[1]]"
   ]
  },
  {
   "cell_type": "markdown",
   "id": "57ba32fb",
   "metadata": {},
   "source": [
    "### Global feature importance plot and individual feature partial dependence plots (PDP)"
   ]
  },
  {
   "cell_type": "code",
   "execution_count": 6,
   "id": "3016a154",
   "metadata": {},
   "outputs": [
    {
     "data": {
      "text/html": [
       "<!-- http://127.0.0.1:7249/140616661455104/ -->\n",
       "<iframe src=\"http://127.0.0.1:7249/140616661455104/\" width=100% height=800 frameBorder=\"0\"></iframe>"
      ]
     },
     "metadata": {},
     "output_type": "display_data"
    },
    {
     "name": "stderr",
     "output_type": "stream",
     "text": [
      "/Users/davisrule/opt/anaconda3/lib/python3.8/site-packages/interpret/visual/udash.py:5: UserWarning: \n",
      "The dash_html_components package is deprecated. Please replace\n",
      "`import dash_html_components as html` with `from dash import html`\n",
      "  import dash_html_components as html\n",
      "/Users/davisrule/opt/anaconda3/lib/python3.8/site-packages/interpret/visual/udash.py:6: UserWarning: \n",
      "The dash_core_components package is deprecated. Please replace\n",
      "`import dash_core_components as dcc` with `from dash import dcc`\n",
      "  import dash_core_components as dcc\n",
      "/Users/davisrule/opt/anaconda3/lib/python3.8/site-packages/interpret/visual/udash.py:7: UserWarning: \n",
      "The dash_table package is deprecated. Please replace\n",
      "`import dash_table` with `from dash import dash_table`\n",
      "\n",
      "Also, if you're using any of the table format helpers (e.g. Group), replace \n",
      "`from dash_table.Format import Group` with \n",
      "`from dash.dash_table.Format import Group`\n",
      "  import dash_table as dt\n"
     ]
    }
   ],
   "source": [
    "from interpret import show \n",
    "\n",
    "ebm_global = ebm.explain_global()\n",
    "show(ebm_global)"
   ]
  },
  {
   "cell_type": "markdown",
   "id": "e5fc291d",
   "metadata": {},
   "source": [
    "### Local explanations"
   ]
  },
  {
   "cell_type": "code",
   "execution_count": 23,
   "id": "0882e214",
   "metadata": {
    "scrolled": false
   },
   "outputs": [
    {
     "data": {
      "text/html": [
       "<!-- http://127.0.0.1:7001/4931132992/ -->\n",
       "<iframe src=\"http://127.0.0.1:7001/4931132992/\" width=100% height=800 frameBorder=\"0\"></iframe>"
      ]
     },
     "metadata": {},
     "output_type": "display_data"
    }
   ],
   "source": [
    "ebm_local = ebm.explain_local(test_X_df[:], test_y_df[:], name='EBM')\n",
    "show(ebm_local)"
   ]
  },
  {
   "cell_type": "markdown",
   "id": "cd4434e5",
   "metadata": {},
   "source": [
    "#### Local misclassifications"
   ]
  },
  {
   "cell_type": "code",
   "execution_count": 24,
   "id": "4855c5e1",
   "metadata": {},
   "outputs": [
    {
     "data": {
      "text/html": [
       "<!-- http://127.0.0.1:7001/4934393600/ -->\n",
       "<iframe src=\"http://127.0.0.1:7001/4934393600/\" width=100% height=800 frameBorder=\"0\"></iframe>"
      ]
     },
     "metadata": {},
     "output_type": "display_data"
    }
   ],
   "source": [
    "ebm_local = ebm.explain_local(test_X_df.iloc[indices], test_y_df.iloc[indices], name='EBM')\n",
    "show(ebm_local)"
   ]
  },
  {
   "cell_type": "markdown",
   "id": "71f08537",
   "metadata": {},
   "source": [
    "## Predicted and Actual values are both 1 (for what-if question)"
   ]
  },
  {
   "cell_type": "code",
   "execution_count": 115,
   "id": "2dd5e0ef",
   "metadata": {},
   "outputs": [],
   "source": [
    "pred_1 = [index for index, value in enumerate(zip(predictions, test_y_df.tolist())) if value[0] == 1 and value[1] == 1]"
   ]
  },
  {
   "cell_type": "code",
   "execution_count": 116,
   "id": "0fab709d",
   "metadata": {
    "scrolled": false
   },
   "outputs": [
    {
     "data": {
      "text/html": [
       "<!-- http://127.0.0.1:7001/4954759536/ -->\n",
       "<iframe src=\"http://127.0.0.1:7001/4954759536/\" width=100% height=800 frameBorder=\"0\"></iframe>"
      ]
     },
     "metadata": {},
     "output_type": "display_data"
    }
   ],
   "source": [
    "# To find a good what-if question\n",
    "ebm_local = ebm.explain_local(test_X_df.iloc[pred_0], test_y_df.iloc[pred_0], name = 'EBM')\n",
    "show(ebm_local)"
   ]
  },
  {
   "cell_type": "code",
   "execution_count": 117,
   "id": "c8d130f0",
   "metadata": {
    "scrolled": false
   },
   "outputs": [
    {
     "name": "stdout",
     "output_type": "stream",
     "text": [
      "PassengerId                              249\n",
      "Pclass                                     1\n",
      "Name           Beckwith, Mr. Richard Leonard\n",
      "Sex                                     male\n",
      "Age                                     37.0\n",
      "SibSp                                      1\n",
      "Parch                                      1\n",
      "TotalFamily                                3\n",
      "Ticket                                 11751\n",
      "Fare                                 52.5542\n",
      "Cabin                                    D35\n",
      "Name: 191, dtype: object\n",
      "Prediction: 1\n"
     ]
    }
   ],
   "source": [
    "#Original Datapoint\n",
    "index = pred_1[52]\n",
    "print(test_X_df.iloc[index])\n",
    "print(\"Prediction: \" + str(test_y_df.iloc[index]))\n",
    "# orig = ebm.explain_local(test_X_df[index:index+1], test_y_df[index:index+1], name='EBM')\n",
    "# show(orig)"
   ]
  },
  {
   "cell_type": "code",
   "execution_count": 118,
   "id": "254aeff3",
   "metadata": {},
   "outputs": [
    {
     "name": "stdout",
     "output_type": "stream",
     "text": [
      "[1]\n"
     ]
    },
    {
     "name": "stderr",
     "output_type": "stream",
     "text": [
      "/var/folders/59/pb9b7w0n5h57bfvlgd1p55_w0000gn/T/ipykernel_48143/2623802030.py:6: SettingWithCopyWarning:\n",
      "\n",
      "\n",
      "A value is trying to be set on a copy of a slice from a DataFrame\n",
      "\n",
      "See the caveats in the documentation: https://pandas.pydata.org/pandas-docs/stable/user_guide/indexing.html#returning-a-view-versus-a-copy\n",
      "\n"
     ]
    },
    {
     "data": {
      "text/html": [
       "<!-- http://127.0.0.1:7001/5007057168/ -->\n",
       "<iframe src=\"http://127.0.0.1:7001/5007057168/\" width=100% height=800 frameBorder=\"0\"></iframe>"
      ]
     },
     "metadata": {},
     "output_type": "display_data"
    }
   ],
   "source": [
    "# Updated datapoint\n",
    "test = test_X_df.iloc[index]\n",
    "test_y = test_y_df.iloc[index]\n",
    "# test[\"Sex\"] = \"female\"\n",
    "# test[\"Pclass\"] = 2\n",
    "# test[\"Age\"] = 70\n",
    "# test[\"Fare\"] = 10\n",
    "# test[\"TotalFamily\"] = \n",
    "test = test.to_frame().T\n",
    "new_y = ebm.predict(test)\n",
    "print(new_y)\n",
    "new = ebm.explain_local(test, pd.Series(new_y), name='EBM')\n",
    "show(new)"
   ]
  },
  {
   "cell_type": "code",
   "execution_count": null,
   "id": "ff8c290f",
   "metadata": {},
   "outputs": [],
   "source": []
  }
 ],
 "metadata": {
  "kernelspec": {
   "display_name": "Python 3 (ipykernel)",
   "language": "python",
   "name": "python3"
  },
  "language_info": {
   "codemirror_mode": {
    "name": "ipython",
    "version": 3
   },
   "file_extension": ".py",
   "mimetype": "text/x-python",
   "name": "python",
   "nbconvert_exporter": "python",
   "pygments_lexer": "ipython3",
   "version": "3.8.12"
  }
 },
 "nbformat": 4,
 "nbformat_minor": 5
}
